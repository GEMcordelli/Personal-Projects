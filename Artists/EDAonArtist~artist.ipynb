{
 "cells": [
  {
   "cell_type": "code",
   "execution_count": 1,
   "id": "7982f3c3-a4bb-401d-acc3-9b3f1aadd790",
   "metadata": {},
   "outputs": [],
   "source": [
    "import pandas as pd\n",
    "import numpy as np\n",
    "import seaborn as sb\n",
    "import matplotlib as mp\n",
    "import json\n",
    "import html\n",
    "import plotly as plt\n",
    "import plotly.express as px"
   ]
  },
  {
   "cell_type": "code",
   "execution_count": 3,
   "id": "ae396e22-2cb1-4db0-a0aa-0959b8c36748",
   "metadata": {},
   "outputs": [
    {
     "data": {
      "text/plain": [
       "'C:\\\\Users\\\\grozz\\\\Downloads\\\\Personal-Projects'"
      ]
     },
     "execution_count": 3,
     "metadata": {},
     "output_type": "execute_result"
    }
   ],
   "source": [
    "pwd"
   ]
  },
  {
   "cell_type": "code",
   "execution_count": 19,
   "id": "b2563dff-538d-48af-b24c-72af0ceeb510",
   "metadata": {},
   "outputs": [
    {
     "name": "stdout",
     "output_type": "stream",
     "text": [
      "C:\\Users\\grozz\\Downloads\\Personal-Projects\n"
     ]
    }
   ],
   "source": [
    "cd Personal-Projects"
   ]
  },
  {
   "cell_type": "code",
   "execution_count": 13,
   "id": "500842bf-71b5-4fd0-bb34-05c0ed2ee782",
   "metadata": {},
   "outputs": [
    {
     "name": "stdout",
     "output_type": "stream",
     "text": [
      "[WinError 2] The system cannot find the file specified: 'Personal-Projects'\n",
      "C:\\Users\\grozz\n"
     ]
    }
   ],
   "source": [
    "cd Personal-Projects"
   ]
  },
  {
   "cell_type": "code",
   "execution_count": 2,
   "id": "e83ef59f-34fb-4624-b6ab-7d043b329802",
   "metadata": {},
   "outputs": [],
   "source": [
    "names = pd.read_csv(\"allNames.csv\")"
   ]
  },
  {
   "cell_type": "code",
   "execution_count": 3,
   "id": "aefc9727-b5f1-4305-a043-abf10ab96e71",
   "metadata": {},
   "outputs": [
    {
     "data": {
      "text/html": [
       "<div>\n",
       "<style scoped>\n",
       "    .dataframe tbody tr th:only-of-type {\n",
       "        vertical-align: middle;\n",
       "    }\n",
       "\n",
       "    .dataframe tbody tr th {\n",
       "        vertical-align: top;\n",
       "    }\n",
       "\n",
       "    .dataframe thead th {\n",
       "        text-align: right;\n",
       "    }\n",
       "</style>\n",
       "<table border=\"1\" class=\"dataframe\">\n",
       "  <thead>\n",
       "    <tr style=\"text-align: right;\">\n",
       "      <th></th>\n",
       "      <th>artist</th>\n",
       "      <th>song</th>\n",
       "      <th>sentence</th>\n",
       "      <th>highestRank</th>\n",
       "      <th>year</th>\n",
       "      <th>nonPerson</th>\n",
       "      <th>name</th>\n",
       "    </tr>\n",
       "  </thead>\n",
       "  <tbody>\n",
       "    <tr>\n",
       "      <th>0</th>\n",
       "      <td>Metro Boomin Featuring 21 Savage</td>\n",
       "      <td>10 Freaky Girls</td>\n",
       "      <td>Harriet Tubman</td>\n",
       "      <td>42.0</td>\n",
       "      <td>2018.0</td>\n",
       "      <td>NaN</td>\n",
       "      <td>Harriet</td>\n",
       "    </tr>\n",
       "    <tr>\n",
       "      <th>1</th>\n",
       "      <td>Metro Boomin Featuring 21 Savage</td>\n",
       "      <td>10 Freaky Girls</td>\n",
       "      <td>For Jess</td>\n",
       "      <td>42.0</td>\n",
       "      <td>2018.0</td>\n",
       "      <td>NaN</td>\n",
       "      <td>Jess</td>\n",
       "    </tr>\n",
       "    <tr>\n",
       "      <th>2</th>\n",
       "      <td>Metro Boomin Featuring 21 Savage</td>\n",
       "      <td>10 Freaky Girls</td>\n",
       "      <td>Keisha eat the molly like it's candy</td>\n",
       "      <td>42.0</td>\n",
       "      <td>2018.0</td>\n",
       "      <td>NaN</td>\n",
       "      <td>Keisha</td>\n",
       "    </tr>\n",
       "    <tr>\n",
       "      <th>3</th>\n",
       "      <td>Metro Boomin Featuring 21 Savage</td>\n",
       "      <td>10 Freaky Girls</td>\n",
       "      <td>Bodyslam a nigga like I'm Randy</td>\n",
       "      <td>42.0</td>\n",
       "      <td>2018.0</td>\n",
       "      <td>NaN</td>\n",
       "      <td>Randy</td>\n",
       "    </tr>\n",
       "    <tr>\n",
       "      <th>4</th>\n",
       "      <td>Metro Boomin Featuring 21 Savage</td>\n",
       "      <td>10 Freaky Girls</td>\n",
       "      <td>In Bikini Bottom, I'm with Sandy</td>\n",
       "      <td>42.0</td>\n",
       "      <td>2018.0</td>\n",
       "      <td>NaN</td>\n",
       "      <td>Sandy</td>\n",
       "    </tr>\n",
       "  </tbody>\n",
       "</table>\n",
       "</div>"
      ],
      "text/plain": [
       "                             artist             song  \\\n",
       "0  Metro Boomin Featuring 21 Savage  10 Freaky Girls   \n",
       "1  Metro Boomin Featuring 21 Savage  10 Freaky Girls   \n",
       "2  Metro Boomin Featuring 21 Savage  10 Freaky Girls   \n",
       "3  Metro Boomin Featuring 21 Savage  10 Freaky Girls   \n",
       "4  Metro Boomin Featuring 21 Savage  10 Freaky Girls   \n",
       "\n",
       "                               sentence  highestRank    year nonPerson  \\\n",
       "0                        Harriet Tubman         42.0  2018.0       NaN   \n",
       "1                              For Jess         42.0  2018.0       NaN   \n",
       "2  Keisha eat the molly like it's candy         42.0  2018.0       NaN   \n",
       "3       Bodyslam a nigga like I'm Randy         42.0  2018.0       NaN   \n",
       "4      In Bikini Bottom, I'm with Sandy         42.0  2018.0       NaN   \n",
       "\n",
       "      name  \n",
       "0  Harriet  \n",
       "1     Jess  \n",
       "2   Keisha  \n",
       "3    Randy  \n",
       "4    Sandy  "
      ]
     },
     "execution_count": 3,
     "metadata": {},
     "output_type": "execute_result"
    }
   ],
   "source": [
    "names.head()"
   ]
  },
  {
   "cell_type": "code",
   "execution_count": 9,
   "id": "d4e7d57d-c42c-4aab-931f-0c3ff9577b04",
   "metadata": {},
   "outputs": [
    {
     "data": {
      "text/plain": [
       "artist  song   sentence  highestRank  year   nonPerson  name \n",
       "False   False  False     False        False  True       False    17352\n",
       "                                             False      False     3172\n",
       "                         True         True   True       False       99\n",
       "                                             False      False        3\n",
       "Name: count, dtype: int64"
      ]
     },
     "execution_count": 9,
     "metadata": {},
     "output_type": "execute_result"
    }
   ],
   "source": [
    "names.isna().value_counts()"
   ]
  },
  {
   "cell_type": "code",
   "execution_count": 11,
   "id": "cdeaaa26-ee7b-404d-b7b8-bb32d7fa3a25",
   "metadata": {},
   "outputs": [],
   "source": [
    "century = names[names[\"year\"] < 2000]"
   ]
  },
  {
   "cell_type": "markdown",
   "id": "7b9bdacb-07ef-4c89-a938-81b02b63cc53",
   "metadata": {},
   "source": [
    "names.year = names[\"year\"].astype(str)"
   ]
  },
  {
   "cell_type": "markdown",
   "id": "8fcb8fda-6d91-483e-97d3-68ba5478d3a1",
   "metadata": {},
   "source": [
    "[col for col in names.year if col.startswith('19')]"
   ]
  },
  {
   "cell_type": "code",
   "execution_count": 29,
   "id": "1a3260e4-b625-412e-a5ae-1127cfa00810",
   "metadata": {},
   "outputs": [
    {
     "data": {
      "text/plain": [
       "'C:\\\\Users\\\\grozz\\\\Downloads\\\\Personal-Projects'"
      ]
     },
     "execution_count": 29,
     "metadata": {},
     "output_type": "execute_result"
    }
   ],
   "source": [
    "pwd"
   ]
  },
  {
   "cell_type": "code",
   "execution_count": 27,
   "id": "6e2344b9-9399-432f-9e61-3333b09c7f5c",
   "metadata": {},
   "outputs": [
    {
     "data": {
      "text/plain": [
       "0        True\n",
       "1        True\n",
       "2        True\n",
       "3        True\n",
       "4        True\n",
       "         ... \n",
       "20621    True\n",
       "20622    True\n",
       "20623    True\n",
       "20624    True\n",
       "20625    True\n",
       "Name: nonPerson, Length: 20626, dtype: bool"
      ]
     },
     "execution_count": 27,
     "metadata": {},
     "output_type": "execute_result"
    }
   ],
   "source": [
    "names.nonPerson.isna()"
   ]
  },
  {
   "cell_type": "code",
   "execution_count": 29,
   "id": "217b392b-e628-4469-bd7a-bdcef9ba1b9f",
   "metadata": {},
   "outputs": [
    {
     "data": {
      "text/html": [
       "<div>\n",
       "<style scoped>\n",
       "    .dataframe tbody tr th:only-of-type {\n",
       "        vertical-align: middle;\n",
       "    }\n",
       "\n",
       "    .dataframe tbody tr th {\n",
       "        vertical-align: top;\n",
       "    }\n",
       "\n",
       "    .dataframe thead th {\n",
       "        text-align: right;\n",
       "    }\n",
       "</style>\n",
       "<table border=\"1\" class=\"dataframe\">\n",
       "  <thead>\n",
       "    <tr style=\"text-align: right;\">\n",
       "      <th></th>\n",
       "      <th>highestRank</th>\n",
       "      <th>year</th>\n",
       "    </tr>\n",
       "  </thead>\n",
       "  <tbody>\n",
       "    <tr>\n",
       "      <th>count</th>\n",
       "      <td>20524.000000</td>\n",
       "      <td>20524.000000</td>\n",
       "    </tr>\n",
       "    <tr>\n",
       "      <th>mean</th>\n",
       "      <td>41.484750</td>\n",
       "      <td>1994.991863</td>\n",
       "    </tr>\n",
       "    <tr>\n",
       "      <th>std</th>\n",
       "      <td>30.801748</td>\n",
       "      <td>18.637030</td>\n",
       "    </tr>\n",
       "    <tr>\n",
       "      <th>min</th>\n",
       "      <td>1.000000</td>\n",
       "      <td>1958.000000</td>\n",
       "    </tr>\n",
       "    <tr>\n",
       "      <th>25%</th>\n",
       "      <td>12.000000</td>\n",
       "      <td>1978.000000</td>\n",
       "    </tr>\n",
       "    <tr>\n",
       "      <th>50%</th>\n",
       "      <td>39.000000</td>\n",
       "      <td>2000.000000</td>\n",
       "    </tr>\n",
       "    <tr>\n",
       "      <th>75%</th>\n",
       "      <td>67.000000</td>\n",
       "      <td>2012.000000</td>\n",
       "    </tr>\n",
       "    <tr>\n",
       "      <th>max</th>\n",
       "      <td>100.000000</td>\n",
       "      <td>2019.000000</td>\n",
       "    </tr>\n",
       "  </tbody>\n",
       "</table>\n",
       "</div>"
      ],
      "text/plain": [
       "        highestRank          year\n",
       "count  20524.000000  20524.000000\n",
       "mean      41.484750   1994.991863\n",
       "std       30.801748     18.637030\n",
       "min        1.000000   1958.000000\n",
       "25%       12.000000   1978.000000\n",
       "50%       39.000000   2000.000000\n",
       "75%       67.000000   2012.000000\n",
       "max      100.000000   2019.000000"
      ]
     },
     "execution_count": 29,
     "metadata": {},
     "output_type": "execute_result"
    }
   ],
   "source": [
    "names.describe()"
   ]
  },
  {
   "cell_type": "code",
   "execution_count": 31,
   "id": "4a62f732-0b47-4132-b3bc-a9d9da90cd9d",
   "metadata": {},
   "outputs": [],
   "source": [
    "top1 = names[names[\"highestRank\"] == 1]"
   ]
  },
  {
   "cell_type": "code",
   "execution_count": 33,
   "id": "cbff0624-9342-4704-b7fc-596e0063456b",
   "metadata": {},
   "outputs": [
    {
     "data": {
      "text/plain": [
       "53                                           Ariana Grande\n",
       "257                                                Cardi B\n",
       "443      Luis Fonsi & Daddy Yankee Featuring Justin Bieber\n",
       "715                             Maroon 5 Featuring Cardi B\n",
       "739                                                  Drake\n",
       "                               ...                        \n",
       "20093                                           Will Smith\n",
       "20101                        Will Smith Featuring Dru Hill\n",
       "20126                                      Wilson Phillips\n",
       "20192                                                Wings\n",
       "20587                                     The Four Seasons\n",
       "Name: artist, Length: 234, dtype: object"
      ]
     },
     "execution_count": 33,
     "metadata": {},
     "output_type": "execute_result"
    }
   ],
   "source": [
    "top1.artist.drop_duplicates()"
   ]
  },
  {
   "cell_type": "code",
   "execution_count": 35,
   "id": "3fbe2157-9320-4e0c-8e83-f93e99194d49",
   "metadata": {},
   "outputs": [
    {
     "data": {
      "text/plain": [
       "53                          7 Rings\n",
       "257      Bodak Yellow (Money Moves)\n",
       "443                       Despacito\n",
       "715                  Girls Like You\n",
       "716                  Girls Like You\n",
       "                    ...            \n",
       "20599                        Sherry\n",
       "20600                        Sherry\n",
       "20601                        Sherry\n",
       "20602                        Sherry\n",
       "20603                        Sherry\n",
       "Name: song, Length: 1548, dtype: object"
      ]
     },
     "execution_count": 35,
     "metadata": {},
     "output_type": "execute_result"
    }
   ],
   "source": [
    "top1.song"
   ]
  },
  {
   "cell_type": "code",
   "execution_count": 37,
   "id": "1271b977-cb93-4b33-82ec-2bf4ea274217",
   "metadata": {},
   "outputs": [
    {
     "data": {
      "text/plain": [
       "53                          7 Rings\n",
       "257      Bodak Yellow (Money Moves)\n",
       "443                       Despacito\n",
       "715                  Girls Like You\n",
       "739                      God's Plan\n",
       "                    ...            \n",
       "20101                Wild Wild West\n",
       "20126                       Hold On\n",
       "20192              Silly Love Songs\n",
       "20503           Bennie and the Jets\n",
       "20587                        Sherry\n",
       "Name: song, Length: 282, dtype: object"
      ]
     },
     "execution_count": 37,
     "metadata": {},
     "output_type": "execute_result"
    }
   ],
   "source": [
    "top1.song.drop_duplicates()"
   ]
  },
  {
   "cell_type": "code",
   "execution_count": 71,
   "id": "199f32c7-5b21-4666-ae67-1e8fd241f7e5",
   "metadata": {
    "scrolled": true
   },
   "outputs": [
    {
     "data": {
      "text/html": [
       "<div>\n",
       "<style scoped>\n",
       "    .dataframe tbody tr th:only-of-type {\n",
       "        vertical-align: middle;\n",
       "    }\n",
       "\n",
       "    .dataframe tbody tr th {\n",
       "        vertical-align: top;\n",
       "    }\n",
       "\n",
       "    .dataframe thead th {\n",
       "        text-align: right;\n",
       "    }\n",
       "</style>\n",
       "<table border=\"1\" class=\"dataframe\">\n",
       "  <thead>\n",
       "    <tr style=\"text-align: right;\">\n",
       "      <th></th>\n",
       "      <th>artist</th>\n",
       "      <th>song</th>\n",
       "      <th>sentence</th>\n",
       "      <th>highestRank</th>\n",
       "      <th>year</th>\n",
       "      <th>nonPerson</th>\n",
       "      <th>name</th>\n",
       "    </tr>\n",
       "  </thead>\n",
       "  <tbody>\n",
       "    <tr>\n",
       "      <th>19483</th>\n",
       "      <td>Twista Featuring Kanye West &amp; Jamie Foxx</td>\n",
       "      <td>Slow Jamz</td>\n",
       "      <td>I'ma play this Gladys Knight, me and you gon g...</td>\n",
       "      <td>1.0</td>\n",
       "      <td>2003.0</td>\n",
       "      <td>NaN</td>\n",
       "      <td>Gladys</td>\n",
       "    </tr>\n",
       "    <tr>\n",
       "      <th>5922</th>\n",
       "      <td>Dexys Midnight Runners</td>\n",
       "      <td>Come On Eileen</td>\n",
       "      <td>Come on Eileen</td>\n",
       "      <td>1.0</td>\n",
       "      <td>1983.0</td>\n",
       "      <td>NaN</td>\n",
       "      <td>Eileen</td>\n",
       "    </tr>\n",
       "    <tr>\n",
       "      <th>15902</th>\n",
       "      <td>Sean Paul</td>\n",
       "      <td>Get Busy</td>\n",
       "      <td>Jodi and Rebecca</td>\n",
       "      <td>1.0</td>\n",
       "      <td>2003.0</td>\n",
       "      <td>NaN</td>\n",
       "      <td>Rebecca</td>\n",
       "    </tr>\n",
       "    <tr>\n",
       "      <th>10703</th>\n",
       "      <td>Justin Timberlake Featuring T.I.</td>\n",
       "      <td>My Love</td>\n",
       "      <td>Baby, it's obvious that I ain't your guy</td>\n",
       "      <td>1.0</td>\n",
       "      <td>2006.0</td>\n",
       "      <td>NaN</td>\n",
       "      <td>Baby</td>\n",
       "    </tr>\n",
       "    <tr>\n",
       "      <th>17121</th>\n",
       "      <td>The Beach Boys</td>\n",
       "      <td>Help Me, Rhonda</td>\n",
       "      <td>Help, help me, Rhonda</td>\n",
       "      <td>1.0</td>\n",
       "      <td>1965.0</td>\n",
       "      <td>NaN</td>\n",
       "      <td>Rhonda</td>\n",
       "    </tr>\n",
       "    <tr>\n",
       "      <th>3209</th>\n",
       "      <td>B2K &amp; P. Diddy</td>\n",
       "      <td>Bump, Bump, Bump</td>\n",
       "      <td>Baby show me, show me</td>\n",
       "      <td>1.0</td>\n",
       "      <td>2002.0</td>\n",
       "      <td>NaN</td>\n",
       "      <td>Baby</td>\n",
       "    </tr>\n",
       "    <tr>\n",
       "      <th>15062</th>\n",
       "      <td>Ray Stevens</td>\n",
       "      <td>The Streak</td>\n",
       "      <td>I looked in there, and Ethel was gettin'</td>\n",
       "      <td>1.0</td>\n",
       "      <td>1974.0</td>\n",
       "      <td>NaN</td>\n",
       "      <td>Ethel</td>\n",
       "    </tr>\n",
       "    <tr>\n",
       "      <th>16859</th>\n",
       "      <td>Taylor Swift</td>\n",
       "      <td>Shake It Off</td>\n",
       "      <td>Baby, I'm just gonna shake, shake, shake, shak...</td>\n",
       "      <td>1.0</td>\n",
       "      <td>2014.0</td>\n",
       "      <td>NaN</td>\n",
       "      <td>Baby</td>\n",
       "    </tr>\n",
       "    <tr>\n",
       "      <th>19496</th>\n",
       "      <td>Twista Featuring Kanye West &amp; Jamie Foxx</td>\n",
       "      <td>Slow Jamz</td>\n",
       "      <td>Got a dark-skinned friend look like Michael Ja...</td>\n",
       "      <td>1.0</td>\n",
       "      <td>2003.0</td>\n",
       "      <td>NaN</td>\n",
       "      <td>Michael</td>\n",
       "    </tr>\n",
       "    <tr>\n",
       "      <th>13032</th>\n",
       "      <td>Michael Jackson</td>\n",
       "      <td>Ben</td>\n",
       "      <td>Ben most people would turn you away</td>\n",
       "      <td>1.0</td>\n",
       "      <td>1972.0</td>\n",
       "      <td>NaN</td>\n",
       "      <td>Ben</td>\n",
       "    </tr>\n",
       "    <tr>\n",
       "      <th>12560</th>\n",
       "      <td>Mario</td>\n",
       "      <td>Let Me Love You</td>\n",
       "      <td>Baby, you should let me love you, love you, lo...</td>\n",
       "      <td>1.0</td>\n",
       "      <td>2004.0</td>\n",
       "      <td>NaN</td>\n",
       "      <td>Baby</td>\n",
       "    </tr>\n",
       "    <tr>\n",
       "      <th>16146</th>\n",
       "      <td>Sir Mix-A-Lot</td>\n",
       "      <td>Baby Got Back</td>\n",
       "      <td>Baby got back</td>\n",
       "      <td>1.0</td>\n",
       "      <td>1992.0</td>\n",
       "      <td>NaN</td>\n",
       "      <td>Baby</td>\n",
       "    </tr>\n",
       "    <tr>\n",
       "      <th>17227</th>\n",
       "      <td>The Beatles</td>\n",
       "      <td>Penny Lane</td>\n",
       "      <td>Penny Lane there is a barber showing photographs</td>\n",
       "      <td>1.0</td>\n",
       "      <td>1967.0</td>\n",
       "      <td>street</td>\n",
       "      <td>Lane</td>\n",
       "    </tr>\n",
       "    <tr>\n",
       "      <th>20545</th>\n",
       "      <td>Elton John</td>\n",
       "      <td>Bennie and the Jets</td>\n",
       "      <td>Say, Candy and Ronnie, have you seen them yet?</td>\n",
       "      <td>1.0</td>\n",
       "      <td>1974.0</td>\n",
       "      <td>NaN</td>\n",
       "      <td>Ronnie</td>\n",
       "    </tr>\n",
       "    <tr>\n",
       "      <th>19764</th>\n",
       "      <td>Usher Featuring Young Jeezy</td>\n",
       "      <td>Love In This Club</td>\n",
       "      <td>Baby's let's make love</td>\n",
       "      <td>1.0</td>\n",
       "      <td>2008.0</td>\n",
       "      <td>NaN</td>\n",
       "      <td>Baby</td>\n",
       "    </tr>\n",
       "    <tr>\n",
       "      <th>15427</th>\n",
       "      <td>Rihanna</td>\n",
       "      <td>Only Girl (In The World)</td>\n",
       "      <td>Baby I'll tell you all my secrets</td>\n",
       "      <td>1.0</td>\n",
       "      <td>2010.0</td>\n",
       "      <td>NaN</td>\n",
       "      <td>Baby</td>\n",
       "    </tr>\n",
       "    <tr>\n",
       "      <th>8155</th>\n",
       "      <td>Gene Chandler</td>\n",
       "      <td>Duke Of Earl</td>\n",
       "      <td>Cause I'm the Duke of Earl</td>\n",
       "      <td>1.0</td>\n",
       "      <td>1962.0</td>\n",
       "      <td>place</td>\n",
       "      <td>Earl</td>\n",
       "    </tr>\n",
       "    <tr>\n",
       "      <th>15831</th>\n",
       "      <td>Santana Featuring The Product G</td>\n",
       "      <td>Maria Maria</td>\n",
       "      <td>It feels like we're together Maria</td>\n",
       "      <td>1.0</td>\n",
       "      <td>2000.0</td>\n",
       "      <td>NaN</td>\n",
       "      <td>Maria</td>\n",
       "    </tr>\n",
       "    <tr>\n",
       "      <th>4242</th>\n",
       "      <td>Boston</td>\n",
       "      <td>Amanda</td>\n",
       "      <td>Amanda</td>\n",
       "      <td>1.0</td>\n",
       "      <td>1986.0</td>\n",
       "      <td>NaN</td>\n",
       "      <td>Amanda</td>\n",
       "    </tr>\n",
       "    <tr>\n",
       "      <th>16863</th>\n",
       "      <td>Taylor Swift</td>\n",
       "      <td>Shake It Off</td>\n",
       "      <td>Baby, I'm just gonna shake, shake, shake, shak...</td>\n",
       "      <td>1.0</td>\n",
       "      <td>2014.0</td>\n",
       "      <td>NaN</td>\n",
       "      <td>Baby</td>\n",
       "    </tr>\n",
       "  </tbody>\n",
       "</table>\n",
       "</div>"
      ],
      "text/plain": [
       "                                         artist                      song  \\\n",
       "19483  Twista Featuring Kanye West & Jamie Foxx                 Slow Jamz   \n",
       "5922                     Dexys Midnight Runners            Come On Eileen   \n",
       "15902                                 Sean Paul                  Get Busy   \n",
       "10703          Justin Timberlake Featuring T.I.                   My Love   \n",
       "17121                            The Beach Boys           Help Me, Rhonda   \n",
       "3209                             B2K & P. Diddy          Bump, Bump, Bump   \n",
       "15062                               Ray Stevens                The Streak   \n",
       "16859                              Taylor Swift              Shake It Off   \n",
       "19496  Twista Featuring Kanye West & Jamie Foxx                 Slow Jamz   \n",
       "13032                           Michael Jackson                       Ben   \n",
       "12560                                     Mario           Let Me Love You   \n",
       "16146                             Sir Mix-A-Lot             Baby Got Back   \n",
       "17227                               The Beatles                Penny Lane   \n",
       "20545                                Elton John       Bennie and the Jets   \n",
       "19764               Usher Featuring Young Jeezy         Love In This Club   \n",
       "15427                                   Rihanna  Only Girl (In The World)   \n",
       "8155                              Gene Chandler              Duke Of Earl   \n",
       "15831           Santana Featuring The Product G               Maria Maria   \n",
       "4242                                     Boston                    Amanda   \n",
       "16863                              Taylor Swift              Shake It Off   \n",
       "\n",
       "                                                sentence  highestRank    year  \\\n",
       "19483  I'ma play this Gladys Knight, me and you gon g...          1.0  2003.0   \n",
       "5922                                      Come on Eileen          1.0  1983.0   \n",
       "15902                                   Jodi and Rebecca          1.0  2003.0   \n",
       "10703           Baby, it's obvious that I ain't your guy          1.0  2006.0   \n",
       "17121                              Help, help me, Rhonda          1.0  1965.0   \n",
       "3209                               Baby show me, show me          1.0  2002.0   \n",
       "15062           I looked in there, and Ethel was gettin'          1.0  1974.0   \n",
       "16859  Baby, I'm just gonna shake, shake, shake, shak...          1.0  2014.0   \n",
       "19496  Got a dark-skinned friend look like Michael Ja...          1.0  2003.0   \n",
       "13032                Ben most people would turn you away          1.0  1972.0   \n",
       "12560  Baby, you should let me love you, love you, lo...          1.0  2004.0   \n",
       "16146                                      Baby got back          1.0  1992.0   \n",
       "17227   Penny Lane there is a barber showing photographs          1.0  1967.0   \n",
       "20545     Say, Candy and Ronnie, have you seen them yet?          1.0  1974.0   \n",
       "19764                             Baby's let's make love          1.0  2008.0   \n",
       "15427                  Baby I'll tell you all my secrets          1.0  2010.0   \n",
       "8155                          Cause I'm the Duke of Earl          1.0  1962.0   \n",
       "15831                 It feels like we're together Maria          1.0  2000.0   \n",
       "4242                                              Amanda          1.0  1986.0   \n",
       "16863  Baby, I'm just gonna shake, shake, shake, shak...          1.0  2014.0   \n",
       "\n",
       "      nonPerson     name  \n",
       "19483       NaN   Gladys  \n",
       "5922        NaN   Eileen  \n",
       "15902       NaN  Rebecca  \n",
       "10703       NaN     Baby  \n",
       "17121       NaN   Rhonda  \n",
       "3209        NaN     Baby  \n",
       "15062       NaN    Ethel  \n",
       "16859       NaN     Baby  \n",
       "19496       NaN  Michael  \n",
       "13032       NaN      Ben  \n",
       "12560       NaN     Baby  \n",
       "16146       NaN     Baby  \n",
       "17227    street     Lane  \n",
       "20545       NaN   Ronnie  \n",
       "19764       NaN     Baby  \n",
       "15427       NaN     Baby  \n",
       "8155      place     Earl  \n",
       "15831       NaN    Maria  \n",
       "4242        NaN   Amanda  \n",
       "16863       NaN     Baby  "
      ]
     },
     "execution_count": 71,
     "metadata": {},
     "output_type": "execute_result"
    }
   ],
   "source": [
    "sample = top1.sample(n = 20, axis=\"rows\")\n",
    "sample"
   ]
  },
  {
   "cell_type": "markdown",
   "id": "f5b00247-9323-43ca-a942-f03823920a2e",
   "metadata": {},
   "source": [
    "#### song subject variables:\n",
    "    * baby\n",
    "    * girl\n",
    "    * boy\n",
    "    * M\n",
    "    * F\n",
    "    * NPN (non person noun, i.e., place, concept, emotion)\n",
    "    * NB (you, this, person, they, them, etc)"
   ]
  },
  {
   "cell_type": "code",
   "execution_count": 81,
   "id": "17094f44-cbde-4ad5-b1f3-a34d8e15e719",
   "metadata": {},
   "outputs": [
    {
     "data": {
      "text/html": [
       "<div>\n",
       "<style scoped>\n",
       "    .dataframe tbody tr th:only-of-type {\n",
       "        vertical-align: middle;\n",
       "    }\n",
       "\n",
       "    .dataframe tbody tr th {\n",
       "        vertical-align: top;\n",
       "    }\n",
       "\n",
       "    .dataframe thead th {\n",
       "        text-align: right;\n",
       "    }\n",
       "</style>\n",
       "<table border=\"1\" class=\"dataframe\">\n",
       "  <thead>\n",
       "    <tr style=\"text-align: right;\">\n",
       "      <th></th>\n",
       "      <th>artist</th>\n",
       "      <th>song</th>\n",
       "      <th>sentence</th>\n",
       "      <th>highestRank</th>\n",
       "      <th>year</th>\n",
       "      <th>nonPerson</th>\n",
       "      <th>name</th>\n",
       "      <th>genderdummy</th>\n",
       "      <th>songsubject</th>\n",
       "      <th>gender</th>\n",
       "    </tr>\n",
       "  </thead>\n",
       "  <tbody>\n",
       "    <tr>\n",
       "      <th>19483</th>\n",
       "      <td>Twista Featuring Kanye West &amp; Jamie Foxx</td>\n",
       "      <td>Slow Jamz</td>\n",
       "      <td>I'ma play this Gladys Knight, me and you gon g...</td>\n",
       "      <td>1.0</td>\n",
       "      <td>2003.0</td>\n",
       "      <td>NaN</td>\n",
       "      <td>Gladys</td>\n",
       "      <td>1</td>\n",
       "      <td>Baby</td>\n",
       "      <td>Male</td>\n",
       "    </tr>\n",
       "    <tr>\n",
       "      <th>5922</th>\n",
       "      <td>Dexys Midnight Runners</td>\n",
       "      <td>Come On Eileen</td>\n",
       "      <td>Come on Eileen</td>\n",
       "      <td>1.0</td>\n",
       "      <td>1983.0</td>\n",
       "      <td>NaN</td>\n",
       "      <td>Eileen</td>\n",
       "      <td>1</td>\n",
       "      <td>F</td>\n",
       "      <td>Male</td>\n",
       "    </tr>\n",
       "    <tr>\n",
       "      <th>15902</th>\n",
       "      <td>Sean Paul</td>\n",
       "      <td>Get Busy</td>\n",
       "      <td>Jodi and Rebecca</td>\n",
       "      <td>1.0</td>\n",
       "      <td>2003.0</td>\n",
       "      <td>NaN</td>\n",
       "      <td>Rebecca</td>\n",
       "      <td>1</td>\n",
       "      <td>F</td>\n",
       "      <td>Male</td>\n",
       "    </tr>\n",
       "    <tr>\n",
       "      <th>10703</th>\n",
       "      <td>Justin Timberlake Featuring T.I.</td>\n",
       "      <td>My Love</td>\n",
       "      <td>Baby, it's obvious that I ain't your guy</td>\n",
       "      <td>1.0</td>\n",
       "      <td>2006.0</td>\n",
       "      <td>NaN</td>\n",
       "      <td>Baby</td>\n",
       "      <td>1</td>\n",
       "      <td>Baby</td>\n",
       "      <td>Male</td>\n",
       "    </tr>\n",
       "    <tr>\n",
       "      <th>17121</th>\n",
       "      <td>The Beach Boys</td>\n",
       "      <td>Help Me, Rhonda</td>\n",
       "      <td>Help, help me, Rhonda</td>\n",
       "      <td>1.0</td>\n",
       "      <td>1965.0</td>\n",
       "      <td>NaN</td>\n",
       "      <td>Rhonda</td>\n",
       "      <td>1</td>\n",
       "      <td>Baby</td>\n",
       "      <td>Male</td>\n",
       "    </tr>\n",
       "    <tr>\n",
       "      <th>3209</th>\n",
       "      <td>B2K &amp; P. Diddy</td>\n",
       "      <td>Bump, Bump, Bump</td>\n",
       "      <td>Baby show me, show me</td>\n",
       "      <td>1.0</td>\n",
       "      <td>2002.0</td>\n",
       "      <td>NaN</td>\n",
       "      <td>Baby</td>\n",
       "      <td>1</td>\n",
       "      <td>Baby</td>\n",
       "      <td>Male</td>\n",
       "    </tr>\n",
       "    <tr>\n",
       "      <th>15062</th>\n",
       "      <td>Ray Stevens</td>\n",
       "      <td>The Streak</td>\n",
       "      <td>I looked in there, and Ethel was gettin'</td>\n",
       "      <td>1.0</td>\n",
       "      <td>1974.0</td>\n",
       "      <td>NaN</td>\n",
       "      <td>Ethel</td>\n",
       "      <td>1</td>\n",
       "      <td>F</td>\n",
       "      <td>Male</td>\n",
       "    </tr>\n",
       "    <tr>\n",
       "      <th>16859</th>\n",
       "      <td>Taylor Swift</td>\n",
       "      <td>Shake It Off</td>\n",
       "      <td>Baby, I'm just gonna shake, shake, shake, shak...</td>\n",
       "      <td>1.0</td>\n",
       "      <td>2014.0</td>\n",
       "      <td>NaN</td>\n",
       "      <td>Baby</td>\n",
       "      <td>0</td>\n",
       "      <td>Baby</td>\n",
       "      <td>Female</td>\n",
       "    </tr>\n",
       "    <tr>\n",
       "      <th>19496</th>\n",
       "      <td>Twista Featuring Kanye West &amp; Jamie Foxx</td>\n",
       "      <td>Slow Jamz</td>\n",
       "      <td>Got a dark-skinned friend look like Michael Ja...</td>\n",
       "      <td>1.0</td>\n",
       "      <td>2003.0</td>\n",
       "      <td>NaN</td>\n",
       "      <td>Michael</td>\n",
       "      <td>1</td>\n",
       "      <td>Baby</td>\n",
       "      <td>Male</td>\n",
       "    </tr>\n",
       "    <tr>\n",
       "      <th>13032</th>\n",
       "      <td>Michael Jackson</td>\n",
       "      <td>Ben</td>\n",
       "      <td>Ben most people would turn you away</td>\n",
       "      <td>1.0</td>\n",
       "      <td>1972.0</td>\n",
       "      <td>NaN</td>\n",
       "      <td>Ben</td>\n",
       "      <td>1</td>\n",
       "      <td>M</td>\n",
       "      <td>Male</td>\n",
       "    </tr>\n",
       "    <tr>\n",
       "      <th>12560</th>\n",
       "      <td>Mario</td>\n",
       "      <td>Let Me Love You</td>\n",
       "      <td>Baby, you should let me love you, love you, lo...</td>\n",
       "      <td>1.0</td>\n",
       "      <td>2004.0</td>\n",
       "      <td>NaN</td>\n",
       "      <td>Baby</td>\n",
       "      <td>1</td>\n",
       "      <td>Baby</td>\n",
       "      <td>Male</td>\n",
       "    </tr>\n",
       "    <tr>\n",
       "      <th>16146</th>\n",
       "      <td>Sir Mix-A-Lot</td>\n",
       "      <td>Baby Got Back</td>\n",
       "      <td>Baby got back</td>\n",
       "      <td>1.0</td>\n",
       "      <td>1992.0</td>\n",
       "      <td>NaN</td>\n",
       "      <td>Baby</td>\n",
       "      <td>1</td>\n",
       "      <td>Baby</td>\n",
       "      <td>Male</td>\n",
       "    </tr>\n",
       "    <tr>\n",
       "      <th>17227</th>\n",
       "      <td>The Beatles</td>\n",
       "      <td>Penny Lane</td>\n",
       "      <td>Penny Lane there is a barber showing photographs</td>\n",
       "      <td>1.0</td>\n",
       "      <td>1967.0</td>\n",
       "      <td>street</td>\n",
       "      <td>Lane</td>\n",
       "      <td>1</td>\n",
       "      <td>NPN</td>\n",
       "      <td>Male</td>\n",
       "    </tr>\n",
       "    <tr>\n",
       "      <th>20545</th>\n",
       "      <td>Elton John</td>\n",
       "      <td>Bennie and the Jets</td>\n",
       "      <td>Say, Candy and Ronnie, have you seen them yet?</td>\n",
       "      <td>1.0</td>\n",
       "      <td>1974.0</td>\n",
       "      <td>NaN</td>\n",
       "      <td>Ronnie</td>\n",
       "      <td>1</td>\n",
       "      <td>F</td>\n",
       "      <td>Male</td>\n",
       "    </tr>\n",
       "    <tr>\n",
       "      <th>19764</th>\n",
       "      <td>Usher Featuring Young Jeezy</td>\n",
       "      <td>Love In This Club</td>\n",
       "      <td>Baby's let's make love</td>\n",
       "      <td>1.0</td>\n",
       "      <td>2008.0</td>\n",
       "      <td>NaN</td>\n",
       "      <td>Baby</td>\n",
       "      <td>1</td>\n",
       "      <td>Baby</td>\n",
       "      <td>Male</td>\n",
       "    </tr>\n",
       "    <tr>\n",
       "      <th>15427</th>\n",
       "      <td>Rihanna</td>\n",
       "      <td>Only Girl (In The World)</td>\n",
       "      <td>Baby I'll tell you all my secrets</td>\n",
       "      <td>1.0</td>\n",
       "      <td>2010.0</td>\n",
       "      <td>NaN</td>\n",
       "      <td>Baby</td>\n",
       "      <td>0</td>\n",
       "      <td>Baby</td>\n",
       "      <td>Female</td>\n",
       "    </tr>\n",
       "    <tr>\n",
       "      <th>8155</th>\n",
       "      <td>Gene Chandler</td>\n",
       "      <td>Duke Of Earl</td>\n",
       "      <td>Cause I'm the Duke of Earl</td>\n",
       "      <td>1.0</td>\n",
       "      <td>1962.0</td>\n",
       "      <td>place</td>\n",
       "      <td>Earl</td>\n",
       "      <td>1</td>\n",
       "      <td>Baby</td>\n",
       "      <td>Male</td>\n",
       "    </tr>\n",
       "    <tr>\n",
       "      <th>15831</th>\n",
       "      <td>Santana Featuring The Product G</td>\n",
       "      <td>Maria Maria</td>\n",
       "      <td>It feels like we're together Maria</td>\n",
       "      <td>1.0</td>\n",
       "      <td>2000.0</td>\n",
       "      <td>NaN</td>\n",
       "      <td>Maria</td>\n",
       "      <td>1</td>\n",
       "      <td>Baby</td>\n",
       "      <td>Male</td>\n",
       "    </tr>\n",
       "    <tr>\n",
       "      <th>4242</th>\n",
       "      <td>Boston</td>\n",
       "      <td>Amanda</td>\n",
       "      <td>Amanda</td>\n",
       "      <td>1.0</td>\n",
       "      <td>1986.0</td>\n",
       "      <td>NaN</td>\n",
       "      <td>Amanda</td>\n",
       "      <td>1</td>\n",
       "      <td>F</td>\n",
       "      <td>Male</td>\n",
       "    </tr>\n",
       "    <tr>\n",
       "      <th>16863</th>\n",
       "      <td>Taylor Swift</td>\n",
       "      <td>Shake It Off</td>\n",
       "      <td>Baby, I'm just gonna shake, shake, shake, shak...</td>\n",
       "      <td>1.0</td>\n",
       "      <td>2014.0</td>\n",
       "      <td>NaN</td>\n",
       "      <td>Baby</td>\n",
       "      <td>0</td>\n",
       "      <td>Baby</td>\n",
       "      <td>Female</td>\n",
       "    </tr>\n",
       "  </tbody>\n",
       "</table>\n",
       "</div>"
      ],
      "text/plain": [
       "                                         artist                      song  \\\n",
       "19483  Twista Featuring Kanye West & Jamie Foxx                 Slow Jamz   \n",
       "5922                     Dexys Midnight Runners            Come On Eileen   \n",
       "15902                                 Sean Paul                  Get Busy   \n",
       "10703          Justin Timberlake Featuring T.I.                   My Love   \n",
       "17121                            The Beach Boys           Help Me, Rhonda   \n",
       "3209                             B2K & P. Diddy          Bump, Bump, Bump   \n",
       "15062                               Ray Stevens                The Streak   \n",
       "16859                              Taylor Swift              Shake It Off   \n",
       "19496  Twista Featuring Kanye West & Jamie Foxx                 Slow Jamz   \n",
       "13032                           Michael Jackson                       Ben   \n",
       "12560                                     Mario           Let Me Love You   \n",
       "16146                             Sir Mix-A-Lot             Baby Got Back   \n",
       "17227                               The Beatles                Penny Lane   \n",
       "20545                                Elton John       Bennie and the Jets   \n",
       "19764               Usher Featuring Young Jeezy         Love In This Club   \n",
       "15427                                   Rihanna  Only Girl (In The World)   \n",
       "8155                              Gene Chandler              Duke Of Earl   \n",
       "15831           Santana Featuring The Product G               Maria Maria   \n",
       "4242                                     Boston                    Amanda   \n",
       "16863                              Taylor Swift              Shake It Off   \n",
       "\n",
       "                                                sentence  highestRank    year  \\\n",
       "19483  I'ma play this Gladys Knight, me and you gon g...          1.0  2003.0   \n",
       "5922                                      Come on Eileen          1.0  1983.0   \n",
       "15902                                   Jodi and Rebecca          1.0  2003.0   \n",
       "10703           Baby, it's obvious that I ain't your guy          1.0  2006.0   \n",
       "17121                              Help, help me, Rhonda          1.0  1965.0   \n",
       "3209                               Baby show me, show me          1.0  2002.0   \n",
       "15062           I looked in there, and Ethel was gettin'          1.0  1974.0   \n",
       "16859  Baby, I'm just gonna shake, shake, shake, shak...          1.0  2014.0   \n",
       "19496  Got a dark-skinned friend look like Michael Ja...          1.0  2003.0   \n",
       "13032                Ben most people would turn you away          1.0  1972.0   \n",
       "12560  Baby, you should let me love you, love you, lo...          1.0  2004.0   \n",
       "16146                                      Baby got back          1.0  1992.0   \n",
       "17227   Penny Lane there is a barber showing photographs          1.0  1967.0   \n",
       "20545     Say, Candy and Ronnie, have you seen them yet?          1.0  1974.0   \n",
       "19764                             Baby's let's make love          1.0  2008.0   \n",
       "15427                  Baby I'll tell you all my secrets          1.0  2010.0   \n",
       "8155                          Cause I'm the Duke of Earl          1.0  1962.0   \n",
       "15831                 It feels like we're together Maria          1.0  2000.0   \n",
       "4242                                              Amanda          1.0  1986.0   \n",
       "16863  Baby, I'm just gonna shake, shake, shake, shak...          1.0  2014.0   \n",
       "\n",
       "      nonPerson     name  genderdummy songsubject  gender  \n",
       "19483       NaN   Gladys            1        Baby    Male  \n",
       "5922        NaN   Eileen            1           F    Male  \n",
       "15902       NaN  Rebecca            1           F    Male  \n",
       "10703       NaN     Baby            1        Baby    Male  \n",
       "17121       NaN   Rhonda            1        Baby    Male  \n",
       "3209        NaN     Baby            1        Baby    Male  \n",
       "15062       NaN    Ethel            1           F    Male  \n",
       "16859       NaN     Baby            0        Baby  Female  \n",
       "19496       NaN  Michael            1        Baby    Male  \n",
       "13032       NaN      Ben            1           M    Male  \n",
       "12560       NaN     Baby            1        Baby    Male  \n",
       "16146       NaN     Baby            1        Baby    Male  \n",
       "17227    street     Lane            1         NPN    Male  \n",
       "20545       NaN   Ronnie            1           F    Male  \n",
       "19764       NaN     Baby            1        Baby    Male  \n",
       "15427       NaN     Baby            0        Baby  Female  \n",
       "8155      place     Earl            1        Baby    Male  \n",
       "15831       NaN    Maria            1        Baby    Male  \n",
       "4242        NaN   Amanda            1           F    Male  \n",
       "16863       NaN     Baby            0        Baby  Female  "
      ]
     },
     "execution_count": 81,
     "metadata": {},
     "output_type": "execute_result"
    }
   ],
   "source": [
    "# make a gender column with dummies (gender is the gender of the artist)\n",
    "gender = [\"Female\" if col in [\"Taylor Swift\", \"Rihanna\"] else \"Male\" for col in sample.artist]\n",
    "genderdummy = [0 if col in [\"Taylor Swift\", \"Rihanna\"] else 1 for col in sample.artist]\n",
    "\n",
    "sample[\"genderdummy\"] = genderdummy\n",
    "sample[\"gender\"] = gender\n",
    "\n",
    "# make a songsubject variable\n",
    "sample[\"songsubject\"] = sample.loc[:, \"name\"]\n",
    "\n",
    "# make a songsubject variable (topic of the main subject of a song; whether that be a person, place, frequentyly used gender neutral term like baby)\n",
    "#sample = sample.drop(\"nonPerson\", axis = 1)\n",
    "female =  [\"F\" if col in [\"Ethel\", \"Rebecca\", \"Eileen\", \"Galdys\", \"Ronnie\", \"Amanda\"] else \"M\" if col in [\"Tommy\", \"Ben\", \"Micheal\"] else \"NPN\" if col in [\"Lane\"] else \"Baby\" for col in sample.songsubject]\n",
    "\n",
    "#elif col in [\"Malcolm\", \"Bobby\", \"Roy\"]\n",
    "\n",
    "#male = [\"M\" if col in [\"Malcolm\", \"Bobby\", \"Roy\"] for col in sample.artist]\n",
    "sample[\"songsubject\"] = female\n",
    "sample"
   ]
  },
  {
   "cell_type": "code",
   "execution_count": 75,
   "id": "24b2019c-7639-42d5-bdf5-bf70d33472cb",
   "metadata": {},
   "outputs": [
    {
     "data": {
      "text/plain": [
       "19483    Baby\n",
       "5922        F\n",
       "15902       F\n",
       "10703    Baby\n",
       "17121    Baby\n",
       "3209     Baby\n",
       "15062       F\n",
       "16859    Baby\n",
       "19496    Baby\n",
       "13032       M\n",
       "12560    Baby\n",
       "16146    Baby\n",
       "17227     NPN\n",
       "20545       F\n",
       "19764    Baby\n",
       "15427    Baby\n",
       "8155     Baby\n",
       "15831    Baby\n",
       "4242        F\n",
       "16863    Baby\n",
       "Name: songsubject, dtype: object"
      ]
     },
     "execution_count": 75,
     "metadata": {},
     "output_type": "execute_result"
    }
   ],
   "source": [
    "sample.songsubject"
   ]
  },
  {
   "cell_type": "code",
   "execution_count": 67,
   "id": "1d82f5c5-a567-4f43-b40a-8db5a1d9a4da",
   "metadata": {},
   "outputs": [
    {
     "data": {
      "text/plain": [
       "15457    0\n",
       "10862    0\n",
       "18021    1\n",
       "6798     1\n",
       "443      1\n",
       "19085    0\n",
       "13664    1\n",
       "14549    1\n",
       "15825    1\n",
       "5026     0\n",
       "17136    1\n",
       "17270    1\n",
       "14323    1\n",
       "12349    1\n",
       "5868     1\n",
       "17230    1\n",
       "19761    1\n",
       "4207     1\n",
       "5848     0\n",
       "12072    1\n",
       "Name: genderdummy, dtype: category\n",
       "Categories (2, int64): [0, 1]"
      ]
     },
     "execution_count": 67,
     "metadata": {},
     "output_type": "execute_result"
    }
   ],
   "source": [
    "sample"
   ]
  },
  {
   "cell_type": "code",
   "execution_count": 83,
   "id": "ad75b452-3095-4a63-845b-43d7f16e37fb",
   "metadata": {},
   "outputs": [
    {
     "data": {
      "application/vnd.plotly.v1+json": {
       "config": {
        "plotlyServerURL": "https://plot.ly"
       },
       "data": [
        {
         "alignmentgroup": "True",
         "hovertemplate": "gender=Male<br>songsubject=%{x}<br>count=%{y}<extra></extra>",
         "legendgroup": "Male",
         "marker": {
          "color": "#636efa",
          "pattern": {
           "shape": ""
          }
         },
         "name": "Male",
         "offsetgroup": "Male",
         "orientation": "v",
         "showlegend": true,
         "textposition": "auto",
         "type": "bar",
         "x": [
          "Baby",
          "F",
          "F",
          "Baby",
          "Baby",
          "Baby",
          "F",
          "Baby",
          "M",
          "Baby",
          "Baby",
          "NPN",
          "F",
          "Baby",
          "Baby",
          "Baby",
          "F"
         ],
         "xaxis": "x",
         "y": [
          1,
          1,
          1,
          1,
          1,
          1,
          1,
          1,
          1,
          1,
          1,
          1,
          1,
          1,
          1,
          1,
          1
         ],
         "yaxis": "y"
        },
        {
         "alignmentgroup": "True",
         "hovertemplate": "gender=Female<br>songsubject=%{x}<br>count=%{y}<extra></extra>",
         "legendgroup": "Female",
         "marker": {
          "color": "#EF553B",
          "pattern": {
           "shape": ""
          }
         },
         "name": "Female",
         "offsetgroup": "Female",
         "orientation": "v",
         "showlegend": true,
         "textposition": "auto",
         "type": "bar",
         "x": [
          "Baby",
          "Baby",
          "Baby"
         ],
         "xaxis": "x",
         "y": [
          1,
          1,
          1
         ],
         "yaxis": "y"
        }
       ],
       "layout": {
        "autosize": true,
        "barmode": "relative",
        "legend": {
         "title": {
          "text": "gender"
         },
         "tracegroupgap": 0
        },
        "margin": {
         "t": 60
        },
        "template": {
         "data": {
          "bar": [
           {
            "error_x": {
             "color": "#2a3f5f"
            },
            "error_y": {
             "color": "#2a3f5f"
            },
            "marker": {
             "line": {
              "color": "#E5ECF6",
              "width": 0.5
             },
             "pattern": {
              "fillmode": "overlay",
              "size": 10,
              "solidity": 0.2
             }
            },
            "type": "bar"
           }
          ],
          "barpolar": [
           {
            "marker": {
             "line": {
              "color": "#E5ECF6",
              "width": 0.5
             },
             "pattern": {
              "fillmode": "overlay",
              "size": 10,
              "solidity": 0.2
             }
            },
            "type": "barpolar"
           }
          ],
          "carpet": [
           {
            "aaxis": {
             "endlinecolor": "#2a3f5f",
             "gridcolor": "white",
             "linecolor": "white",
             "minorgridcolor": "white",
             "startlinecolor": "#2a3f5f"
            },
            "baxis": {
             "endlinecolor": "#2a3f5f",
             "gridcolor": "white",
             "linecolor": "white",
             "minorgridcolor": "white",
             "startlinecolor": "#2a3f5f"
            },
            "type": "carpet"
           }
          ],
          "choropleth": [
           {
            "colorbar": {
             "outlinewidth": 0,
             "ticks": ""
            },
            "type": "choropleth"
           }
          ],
          "contour": [
           {
            "colorbar": {
             "outlinewidth": 0,
             "ticks": ""
            },
            "colorscale": [
             [
              0,
              "#0d0887"
             ],
             [
              0.1111111111111111,
              "#46039f"
             ],
             [
              0.2222222222222222,
              "#7201a8"
             ],
             [
              0.3333333333333333,
              "#9c179e"
             ],
             [
              0.4444444444444444,
              "#bd3786"
             ],
             [
              0.5555555555555556,
              "#d8576b"
             ],
             [
              0.6666666666666666,
              "#ed7953"
             ],
             [
              0.7777777777777778,
              "#fb9f3a"
             ],
             [
              0.8888888888888888,
              "#fdca26"
             ],
             [
              1,
              "#f0f921"
             ]
            ],
            "type": "contour"
           }
          ],
          "contourcarpet": [
           {
            "colorbar": {
             "outlinewidth": 0,
             "ticks": ""
            },
            "type": "contourcarpet"
           }
          ],
          "heatmap": [
           {
            "colorbar": {
             "outlinewidth": 0,
             "ticks": ""
            },
            "colorscale": [
             [
              0,
              "#0d0887"
             ],
             [
              0.1111111111111111,
              "#46039f"
             ],
             [
              0.2222222222222222,
              "#7201a8"
             ],
             [
              0.3333333333333333,
              "#9c179e"
             ],
             [
              0.4444444444444444,
              "#bd3786"
             ],
             [
              0.5555555555555556,
              "#d8576b"
             ],
             [
              0.6666666666666666,
              "#ed7953"
             ],
             [
              0.7777777777777778,
              "#fb9f3a"
             ],
             [
              0.8888888888888888,
              "#fdca26"
             ],
             [
              1,
              "#f0f921"
             ]
            ],
            "type": "heatmap"
           }
          ],
          "heatmapgl": [
           {
            "colorbar": {
             "outlinewidth": 0,
             "ticks": ""
            },
            "colorscale": [
             [
              0,
              "#0d0887"
             ],
             [
              0.1111111111111111,
              "#46039f"
             ],
             [
              0.2222222222222222,
              "#7201a8"
             ],
             [
              0.3333333333333333,
              "#9c179e"
             ],
             [
              0.4444444444444444,
              "#bd3786"
             ],
             [
              0.5555555555555556,
              "#d8576b"
             ],
             [
              0.6666666666666666,
              "#ed7953"
             ],
             [
              0.7777777777777778,
              "#fb9f3a"
             ],
             [
              0.8888888888888888,
              "#fdca26"
             ],
             [
              1,
              "#f0f921"
             ]
            ],
            "type": "heatmapgl"
           }
          ],
          "histogram": [
           {
            "marker": {
             "pattern": {
              "fillmode": "overlay",
              "size": 10,
              "solidity": 0.2
             }
            },
            "type": "histogram"
           }
          ],
          "histogram2d": [
           {
            "colorbar": {
             "outlinewidth": 0,
             "ticks": ""
            },
            "colorscale": [
             [
              0,
              "#0d0887"
             ],
             [
              0.1111111111111111,
              "#46039f"
             ],
             [
              0.2222222222222222,
              "#7201a8"
             ],
             [
              0.3333333333333333,
              "#9c179e"
             ],
             [
              0.4444444444444444,
              "#bd3786"
             ],
             [
              0.5555555555555556,
              "#d8576b"
             ],
             [
              0.6666666666666666,
              "#ed7953"
             ],
             [
              0.7777777777777778,
              "#fb9f3a"
             ],
             [
              0.8888888888888888,
              "#fdca26"
             ],
             [
              1,
              "#f0f921"
             ]
            ],
            "type": "histogram2d"
           }
          ],
          "histogram2dcontour": [
           {
            "colorbar": {
             "outlinewidth": 0,
             "ticks": ""
            },
            "colorscale": [
             [
              0,
              "#0d0887"
             ],
             [
              0.1111111111111111,
              "#46039f"
             ],
             [
              0.2222222222222222,
              "#7201a8"
             ],
             [
              0.3333333333333333,
              "#9c179e"
             ],
             [
              0.4444444444444444,
              "#bd3786"
             ],
             [
              0.5555555555555556,
              "#d8576b"
             ],
             [
              0.6666666666666666,
              "#ed7953"
             ],
             [
              0.7777777777777778,
              "#fb9f3a"
             ],
             [
              0.8888888888888888,
              "#fdca26"
             ],
             [
              1,
              "#f0f921"
             ]
            ],
            "type": "histogram2dcontour"
           }
          ],
          "mesh3d": [
           {
            "colorbar": {
             "outlinewidth": 0,
             "ticks": ""
            },
            "type": "mesh3d"
           }
          ],
          "parcoords": [
           {
            "line": {
             "colorbar": {
              "outlinewidth": 0,
              "ticks": ""
             }
            },
            "type": "parcoords"
           }
          ],
          "pie": [
           {
            "automargin": true,
            "type": "pie"
           }
          ],
          "scatter": [
           {
            "fillpattern": {
             "fillmode": "overlay",
             "size": 10,
             "solidity": 0.2
            },
            "type": "scatter"
           }
          ],
          "scatter3d": [
           {
            "line": {
             "colorbar": {
              "outlinewidth": 0,
              "ticks": ""
             }
            },
            "marker": {
             "colorbar": {
              "outlinewidth": 0,
              "ticks": ""
             }
            },
            "type": "scatter3d"
           }
          ],
          "scattercarpet": [
           {
            "marker": {
             "colorbar": {
              "outlinewidth": 0,
              "ticks": ""
             }
            },
            "type": "scattercarpet"
           }
          ],
          "scattergeo": [
           {
            "marker": {
             "colorbar": {
              "outlinewidth": 0,
              "ticks": ""
             }
            },
            "type": "scattergeo"
           }
          ],
          "scattergl": [
           {
            "marker": {
             "colorbar": {
              "outlinewidth": 0,
              "ticks": ""
             }
            },
            "type": "scattergl"
           }
          ],
          "scattermapbox": [
           {
            "marker": {
             "colorbar": {
              "outlinewidth": 0,
              "ticks": ""
             }
            },
            "type": "scattermapbox"
           }
          ],
          "scatterpolar": [
           {
            "marker": {
             "colorbar": {
              "outlinewidth": 0,
              "ticks": ""
             }
            },
            "type": "scatterpolar"
           }
          ],
          "scatterpolargl": [
           {
            "marker": {
             "colorbar": {
              "outlinewidth": 0,
              "ticks": ""
             }
            },
            "type": "scatterpolargl"
           }
          ],
          "scatterternary": [
           {
            "marker": {
             "colorbar": {
              "outlinewidth": 0,
              "ticks": ""
             }
            },
            "type": "scatterternary"
           }
          ],
          "surface": [
           {
            "colorbar": {
             "outlinewidth": 0,
             "ticks": ""
            },
            "colorscale": [
             [
              0,
              "#0d0887"
             ],
             [
              0.1111111111111111,
              "#46039f"
             ],
             [
              0.2222222222222222,
              "#7201a8"
             ],
             [
              0.3333333333333333,
              "#9c179e"
             ],
             [
              0.4444444444444444,
              "#bd3786"
             ],
             [
              0.5555555555555556,
              "#d8576b"
             ],
             [
              0.6666666666666666,
              "#ed7953"
             ],
             [
              0.7777777777777778,
              "#fb9f3a"
             ],
             [
              0.8888888888888888,
              "#fdca26"
             ],
             [
              1,
              "#f0f921"
             ]
            ],
            "type": "surface"
           }
          ],
          "table": [
           {
            "cells": {
             "fill": {
              "color": "#EBF0F8"
             },
             "line": {
              "color": "white"
             }
            },
            "header": {
             "fill": {
              "color": "#C8D4E3"
             },
             "line": {
              "color": "white"
             }
            },
            "type": "table"
           }
          ]
         },
         "layout": {
          "annotationdefaults": {
           "arrowcolor": "#2a3f5f",
           "arrowhead": 0,
           "arrowwidth": 1
          },
          "autotypenumbers": "strict",
          "coloraxis": {
           "colorbar": {
            "outlinewidth": 0,
            "ticks": ""
           }
          },
          "colorscale": {
           "diverging": [
            [
             0,
             "#8e0152"
            ],
            [
             0.1,
             "#c51b7d"
            ],
            [
             0.2,
             "#de77ae"
            ],
            [
             0.3,
             "#f1b6da"
            ],
            [
             0.4,
             "#fde0ef"
            ],
            [
             0.5,
             "#f7f7f7"
            ],
            [
             0.6,
             "#e6f5d0"
            ],
            [
             0.7,
             "#b8e186"
            ],
            [
             0.8,
             "#7fbc41"
            ],
            [
             0.9,
             "#4d9221"
            ],
            [
             1,
             "#276419"
            ]
           ],
           "sequential": [
            [
             0,
             "#0d0887"
            ],
            [
             0.1111111111111111,
             "#46039f"
            ],
            [
             0.2222222222222222,
             "#7201a8"
            ],
            [
             0.3333333333333333,
             "#9c179e"
            ],
            [
             0.4444444444444444,
             "#bd3786"
            ],
            [
             0.5555555555555556,
             "#d8576b"
            ],
            [
             0.6666666666666666,
             "#ed7953"
            ],
            [
             0.7777777777777778,
             "#fb9f3a"
            ],
            [
             0.8888888888888888,
             "#fdca26"
            ],
            [
             1,
             "#f0f921"
            ]
           ],
           "sequentialminus": [
            [
             0,
             "#0d0887"
            ],
            [
             0.1111111111111111,
             "#46039f"
            ],
            [
             0.2222222222222222,
             "#7201a8"
            ],
            [
             0.3333333333333333,
             "#9c179e"
            ],
            [
             0.4444444444444444,
             "#bd3786"
            ],
            [
             0.5555555555555556,
             "#d8576b"
            ],
            [
             0.6666666666666666,
             "#ed7953"
            ],
            [
             0.7777777777777778,
             "#fb9f3a"
            ],
            [
             0.8888888888888888,
             "#fdca26"
            ],
            [
             1,
             "#f0f921"
            ]
           ]
          },
          "colorway": [
           "#636efa",
           "#EF553B",
           "#00cc96",
           "#ab63fa",
           "#FFA15A",
           "#19d3f3",
           "#FF6692",
           "#B6E880",
           "#FF97FF",
           "#FECB52"
          ],
          "font": {
           "color": "#2a3f5f"
          },
          "geo": {
           "bgcolor": "white",
           "lakecolor": "white",
           "landcolor": "#E5ECF6",
           "showlakes": true,
           "showland": true,
           "subunitcolor": "white"
          },
          "hoverlabel": {
           "align": "left"
          },
          "hovermode": "closest",
          "mapbox": {
           "style": "light"
          },
          "paper_bgcolor": "white",
          "plot_bgcolor": "#E5ECF6",
          "polar": {
           "angularaxis": {
            "gridcolor": "white",
            "linecolor": "white",
            "ticks": ""
           },
           "bgcolor": "#E5ECF6",
           "radialaxis": {
            "gridcolor": "white",
            "linecolor": "white",
            "ticks": ""
           }
          },
          "scene": {
           "xaxis": {
            "backgroundcolor": "#E5ECF6",
            "gridcolor": "white",
            "gridwidth": 2,
            "linecolor": "white",
            "showbackground": true,
            "ticks": "",
            "zerolinecolor": "white"
           },
           "yaxis": {
            "backgroundcolor": "#E5ECF6",
            "gridcolor": "white",
            "gridwidth": 2,
            "linecolor": "white",
            "showbackground": true,
            "ticks": "",
            "zerolinecolor": "white"
           },
           "zaxis": {
            "backgroundcolor": "#E5ECF6",
            "gridcolor": "white",
            "gridwidth": 2,
            "linecolor": "white",
            "showbackground": true,
            "ticks": "",
            "zerolinecolor": "white"
           }
          },
          "shapedefaults": {
           "line": {
            "color": "#2a3f5f"
           }
          },
          "ternary": {
           "aaxis": {
            "gridcolor": "white",
            "linecolor": "white",
            "ticks": ""
           },
           "baxis": {
            "gridcolor": "white",
            "linecolor": "white",
            "ticks": ""
           },
           "bgcolor": "#E5ECF6",
           "caxis": {
            "gridcolor": "white",
            "linecolor": "white",
            "ticks": ""
           }
          },
          "title": {
           "x": 0.05
          },
          "xaxis": {
           "automargin": true,
           "gridcolor": "white",
           "linecolor": "white",
           "ticks": "",
           "title": {
            "standoff": 15
           },
           "zerolinecolor": "white",
           "zerolinewidth": 2
          },
          "yaxis": {
           "automargin": true,
           "gridcolor": "white",
           "linecolor": "white",
           "ticks": "",
           "title": {
            "standoff": 15
           },
           "zerolinecolor": "white",
           "zerolinewidth": 2
          }
         }
        },
        "xaxis": {
         "anchor": "y",
         "autorange": true,
         "domain": [
          0,
          1
         ],
         "range": [
          -0.5,
          3.5
         ],
         "title": {
          "text": "songsubject"
         },
         "type": "category"
        },
        "yaxis": {
         "anchor": "x",
         "autorange": true,
         "domain": [
          0,
          1
         ],
         "range": [
          0,
          13.68421052631579
         ],
         "title": {
          "text": "count"
         },
         "type": "linear"
        }
       }
      },
      "image/png": "[encoded data removed]",
      "text/html": [
       "<div>                            <div id=\"fb736911-f91d-41e6-a226-19ae7211a224\" class=\"plotly-graph-div\" style=\"height:525px; width:100%;\"></div>            <script type=\"text/javascript\">                require([\"plotly\"], function(Plotly) {                    window.PLOTLYENV=window.PLOTLYENV || {};                                    if (document.getElementById(\"fb736911-f91d-41e6-a226-19ae7211a224\")) {                    Plotly.newPlot(                        \"fb736911-f91d-41e6-a226-19ae7211a224\",                        [{\"alignmentgroup\":\"True\",\"hovertemplate\":\"gender=Male\\u003cbr\\u003esongsubject=%{x}\\u003cbr\\u003ecount=%{y}\\u003cextra\\u003e\\u003c\\u002fextra\\u003e\",\"legendgroup\":\"Male\",\"marker\":{\"color\":\"#636efa\",\"pattern\":{\"shape\":\"\"}},\"name\":\"Male\",\"offsetgroup\":\"Male\",\"orientation\":\"v\",\"showlegend\":true,\"textposition\":\"auto\",\"x\":[\"Baby\",\"F\",\"F\",\"Baby\",\"Baby\",\"Baby\",\"F\",\"Baby\",\"M\",\"Baby\",\"Baby\",\"NPN\",\"F\",\"Baby\",\"Baby\",\"Baby\",\"F\"],\"xaxis\":\"x\",\"y\":[1,1,1,1,1,1,1,1,1,1,1,1,1,1,1,1,1],\"yaxis\":\"y\",\"type\":\"bar\"},{\"alignmentgroup\":\"True\",\"hovertemplate\":\"gender=Female\\u003cbr\\u003esongsubject=%{x}\\u003cbr\\u003ecount=%{y}\\u003cextra\\u003e\\u003c\\u002fextra\\u003e\",\"legendgroup\":\"Female\",\"marker\":{\"color\":\"#EF553B\",\"pattern\":{\"shape\":\"\"}},\"name\":\"Female\",\"offsetgroup\":\"Female\",\"orientation\":\"v\",\"showlegend\":true,\"textposition\":\"auto\",\"x\":[\"Baby\",\"Baby\",\"Baby\"],\"xaxis\":\"x\",\"y\":[1,1,1],\"yaxis\":\"y\",\"type\":\"bar\"}],                        {\"template\":{\"data\":{\"histogram2dcontour\":[{\"type\":\"histogram2dcontour\",\"colorbar\":{\"outlinewidth\":0,\"ticks\":\"\"},\"colorscale\":[[0.0,\"#0d0887\"],[0.1111111111111111,\"#46039f\"],[0.2222222222222222,\"#7201a8\"],[0.3333333333333333,\"#9c179e\"],[0.4444444444444444,\"#bd3786\"],[0.5555555555555556,\"#d8576b\"],[0.6666666666666666,\"#ed7953\"],[0.7777777777777778,\"#fb9f3a\"],[0.8888888888888888,\"#fdca26\"],[1.0,\"#f0f921\"]]}],\"choropleth\":[{\"type\":\"choropleth\",\"colorbar\":{\"outlinewidth\":0,\"ticks\":\"\"}}],\"histogram2d\":[{\"type\":\"histogram2d\",\"colorbar\":{\"outlinewidth\":0,\"ticks\":\"\"},\"colorscale\":[[0.0,\"#0d0887\"],[0.1111111111111111,\"#46039f\"],[0.2222222222222222,\"#7201a8\"],[0.3333333333333333,\"#9c179e\"],[0.4444444444444444,\"#bd3786\"],[0.5555555555555556,\"#d8576b\"],[0.6666666666666666,\"#ed7953\"],[0.7777777777777778,\"#fb9f3a\"],[0.8888888888888888,\"#fdca26\"],[1.0,\"#f0f921\"]]}],\"heatmap\":[{\"type\":\"heatmap\",\"colorbar\":{\"outlinewidth\":0,\"ticks\":\"\"},\"colorscale\":[[0.0,\"#0d0887\"],[0.1111111111111111,\"#46039f\"],[0.2222222222222222,\"#7201a8\"],[0.3333333333333333,\"#9c179e\"],[0.4444444444444444,\"#bd3786\"],[0.5555555555555556,\"#d8576b\"],[0.6666666666666666,\"#ed7953\"],[0.7777777777777778,\"#fb9f3a\"],[0.8888888888888888,\"#fdca26\"],[1.0,\"#f0f921\"]]}],\"heatmapgl\":[{\"type\":\"heatmapgl\",\"colorbar\":{\"outlinewidth\":0,\"ticks\":\"\"},\"colorscale\":[[0.0,\"#0d0887\"],[0.1111111111111111,\"#46039f\"],[0.2222222222222222,\"#7201a8\"],[0.3333333333333333,\"#9c179e\"],[0.4444444444444444,\"#bd3786\"],[0.5555555555555556,\"#d8576b\"],[0.6666666666666666,\"#ed7953\"],[0.7777777777777778,\"#fb9f3a\"],[0.8888888888888888,\"#fdca26\"],[1.0,\"#f0f921\"]]}],\"contourcarpet\":[{\"type\":\"contourcarpet\",\"colorbar\":{\"outlinewidth\":0,\"ticks\":\"\"}}],\"contour\":[{\"type\":\"contour\",\"colorbar\":{\"outlinewidth\":0,\"ticks\":\"\"},\"colorscale\":[[0.0,\"#0d0887\"],[0.1111111111111111,\"#46039f\"],[0.2222222222222222,\"#7201a8\"],[0.3333333333333333,\"#9c179e\"],[0.4444444444444444,\"#bd3786\"],[0.5555555555555556,\"#d8576b\"],[0.6666666666666666,\"#ed7953\"],[0.7777777777777778,\"#fb9f3a\"],[0.8888888888888888,\"#fdca26\"],[1.0,\"#f0f921\"]]}],\"surface\":[{\"type\":\"surface\",\"colorbar\":{\"outlinewidth\":0,\"ticks\":\"\"},\"colorscale\":[[0.0,\"#0d0887\"],[0.1111111111111111,\"#46039f\"],[0.2222222222222222,\"#7201a8\"],[0.3333333333333333,\"#9c179e\"],[0.4444444444444444,\"#bd3786\"],[0.5555555555555556,\"#d8576b\"],[0.6666666666666666,\"#ed7953\"],[0.7777777777777778,\"#fb9f3a\"],[0.8888888888888888,\"#fdca26\"],[1.0,\"#f0f921\"]]}],\"mesh3d\":[{\"type\":\"mesh3d\",\"colorbar\":{\"outlinewidth\":0,\"ticks\":\"\"}}],\"scatter\":[{\"fillpattern\":{\"fillmode\":\"overlay\",\"size\":10,\"solidity\":0.2},\"type\":\"scatter\"}],\"parcoords\":[{\"type\":\"parcoords\",\"line\":{\"colorbar\":{\"outlinewidth\":0,\"ticks\":\"\"}}}],\"scatterpolargl\":[{\"type\":\"scatterpolargl\",\"marker\":{\"colorbar\":{\"outlinewidth\":0,\"ticks\":\"\"}}}],\"bar\":[{\"error_x\":{\"color\":\"#2a3f5f\"},\"error_y\":{\"color\":\"#2a3f5f\"},\"marker\":{\"line\":{\"color\":\"#E5ECF6\",\"width\":0.5},\"pattern\":{\"fillmode\":\"overlay\",\"size\":10,\"solidity\":0.2}},\"type\":\"bar\"}],\"scattergeo\":[{\"type\":\"scattergeo\",\"marker\":{\"colorbar\":{\"outlinewidth\":0,\"ticks\":\"\"}}}],\"scatterpolar\":[{\"type\":\"scatterpolar\",\"marker\":{\"colorbar\":{\"outlinewidth\":0,\"ticks\":\"\"}}}],\"histogram\":[{\"marker\":{\"pattern\":{\"fillmode\":\"overlay\",\"size\":10,\"solidity\":0.2}},\"type\":\"histogram\"}],\"scattergl\":[{\"type\":\"scattergl\",\"marker\":{\"colorbar\":{\"outlinewidth\":0,\"ticks\":\"\"}}}],\"scatter3d\":[{\"type\":\"scatter3d\",\"line\":{\"colorbar\":{\"outlinewidth\":0,\"ticks\":\"\"}},\"marker\":{\"colorbar\":{\"outlinewidth\":0,\"ticks\":\"\"}}}],\"scattermapbox\":[{\"type\":\"scattermapbox\",\"marker\":{\"colorbar\":{\"outlinewidth\":0,\"ticks\":\"\"}}}],\"scatterternary\":[{\"type\":\"scatterternary\",\"marker\":{\"colorbar\":{\"outlinewidth\":0,\"ticks\":\"\"}}}],\"scattercarpet\":[{\"type\":\"scattercarpet\",\"marker\":{\"colorbar\":{\"outlinewidth\":0,\"ticks\":\"\"}}}],\"carpet\":[{\"aaxis\":{\"endlinecolor\":\"#2a3f5f\",\"gridcolor\":\"white\",\"linecolor\":\"white\",\"minorgridcolor\":\"white\",\"startlinecolor\":\"#2a3f5f\"},\"baxis\":{\"endlinecolor\":\"#2a3f5f\",\"gridcolor\":\"white\",\"linecolor\":\"white\",\"minorgridcolor\":\"white\",\"startlinecolor\":\"#2a3f5f\"},\"type\":\"carpet\"}],\"table\":[{\"cells\":{\"fill\":{\"color\":\"#EBF0F8\"},\"line\":{\"color\":\"white\"}},\"header\":{\"fill\":{\"color\":\"#C8D4E3\"},\"line\":{\"color\":\"white\"}},\"type\":\"table\"}],\"barpolar\":[{\"marker\":{\"line\":{\"color\":\"#E5ECF6\",\"width\":0.5},\"pattern\":{\"fillmode\":\"overlay\",\"size\":10,\"solidity\":0.2}},\"type\":\"barpolar\"}],\"pie\":[{\"automargin\":true,\"type\":\"pie\"}]},\"layout\":{\"autotypenumbers\":\"strict\",\"colorway\":[\"#636efa\",\"#EF553B\",\"#00cc96\",\"#ab63fa\",\"#FFA15A\",\"#19d3f3\",\"#FF6692\",\"#B6E880\",\"#FF97FF\",\"#FECB52\"],\"font\":{\"color\":\"#2a3f5f\"},\"hovermode\":\"closest\",\"hoverlabel\":{\"align\":\"left\"},\"paper_bgcolor\":\"white\",\"plot_bgcolor\":\"#E5ECF6\",\"polar\":{\"bgcolor\":\"#E5ECF6\",\"angularaxis\":{\"gridcolor\":\"white\",\"linecolor\":\"white\",\"ticks\":\"\"},\"radialaxis\":{\"gridcolor\":\"white\",\"linecolor\":\"white\",\"ticks\":\"\"}},\"ternary\":{\"bgcolor\":\"#E5ECF6\",\"aaxis\":{\"gridcolor\":\"white\",\"linecolor\":\"white\",\"ticks\":\"\"},\"baxis\":{\"gridcolor\":\"white\",\"linecolor\":\"white\",\"ticks\":\"\"},\"caxis\":{\"gridcolor\":\"white\",\"linecolor\":\"white\",\"ticks\":\"\"}},\"coloraxis\":{\"colorbar\":{\"outlinewidth\":0,\"ticks\":\"\"}},\"colorscale\":{\"sequential\":[[0.0,\"#0d0887\"],[0.1111111111111111,\"#46039f\"],[0.2222222222222222,\"#7201a8\"],[0.3333333333333333,\"#9c179e\"],[0.4444444444444444,\"#bd3786\"],[0.5555555555555556,\"#d8576b\"],[0.6666666666666666,\"#ed7953\"],[0.7777777777777778,\"#fb9f3a\"],[0.8888888888888888,\"#fdca26\"],[1.0,\"#f0f921\"]],\"sequentialminus\":[[0.0,\"#0d0887\"],[0.1111111111111111,\"#46039f\"],[0.2222222222222222,\"#7201a8\"],[0.3333333333333333,\"#9c179e\"],[0.4444444444444444,\"#bd3786\"],[0.5555555555555556,\"#d8576b\"],[0.6666666666666666,\"#ed7953\"],[0.7777777777777778,\"#fb9f3a\"],[0.8888888888888888,\"#fdca26\"],[1.0,\"#f0f921\"]],\"diverging\":[[0,\"#8e0152\"],[0.1,\"#c51b7d\"],[0.2,\"#de77ae\"],[0.3,\"#f1b6da\"],[0.4,\"#fde0ef\"],[0.5,\"#f7f7f7\"],[0.6,\"#e6f5d0\"],[0.7,\"#b8e186\"],[0.8,\"#7fbc41\"],[0.9,\"#4d9221\"],[1,\"#276419\"]]},\"xaxis\":{\"gridcolor\":\"white\",\"linecolor\":\"white\",\"ticks\":\"\",\"title\":{\"standoff\":15},\"zerolinecolor\":\"white\",\"automargin\":true,\"zerolinewidth\":2},\"yaxis\":{\"gridcolor\":\"white\",\"linecolor\":\"white\",\"ticks\":\"\",\"title\":{\"standoff\":15},\"zerolinecolor\":\"white\",\"automargin\":true,\"zerolinewidth\":2},\"scene\":{\"xaxis\":{\"backgroundcolor\":\"#E5ECF6\",\"gridcolor\":\"white\",\"linecolor\":\"white\",\"showbackground\":true,\"ticks\":\"\",\"zerolinecolor\":\"white\",\"gridwidth\":2},\"yaxis\":{\"backgroundcolor\":\"#E5ECF6\",\"gridcolor\":\"white\",\"linecolor\":\"white\",\"showbackground\":true,\"ticks\":\"\",\"zerolinecolor\":\"white\",\"gridwidth\":2},\"zaxis\":{\"backgroundcolor\":\"#E5ECF6\",\"gridcolor\":\"white\",\"linecolor\":\"white\",\"showbackground\":true,\"ticks\":\"\",\"zerolinecolor\":\"white\",\"gridwidth\":2}},\"shapedefaults\":{\"line\":{\"color\":\"#2a3f5f\"}},\"annotationdefaults\":{\"arrowcolor\":\"#2a3f5f\",\"arrowhead\":0,\"arrowwidth\":1},\"geo\":{\"bgcolor\":\"white\",\"landcolor\":\"#E5ECF6\",\"subunitcolor\":\"white\",\"showland\":true,\"showlakes\":true,\"lakecolor\":\"white\"},\"title\":{\"x\":0.05},\"mapbox\":{\"style\":\"light\"}}},\"xaxis\":{\"anchor\":\"y\",\"domain\":[0.0,1.0],\"title\":{\"text\":\"songsubject\"}},\"yaxis\":{\"anchor\":\"x\",\"domain\":[0.0,1.0],\"title\":{\"text\":\"count\"}},\"legend\":{\"title\":{\"text\":\"gender\"},\"tracegroupgap\":0},\"margin\":{\"t\":60},\"barmode\":\"relative\"},                        {\"responsive\": true}                    ).then(function(){\n",
       "                            \n",
       "var gd = document.getElementById('fb736911-f91d-41e6-a226-19ae7211a224');\n",
       "var x = new MutationObserver(function (mutations, observer) {{\n",
       "        var display = window.getComputedStyle(gd).display;\n",
       "        if (!display || display === 'none') {{\n",
       "            console.log([gd, 'removed!']);\n",
       "            Plotly.purge(gd);\n",
       "            observer.disconnect();\n",
       "        }}\n",
       "}});\n",
       "\n",
       "// Listen for the removal of the full notebook cells\n",
       "var notebookContainer = gd.closest('#notebook-container');\n",
       "if (notebookContainer) {{\n",
       "    x.observe(notebookContainer, {childList: true});\n",
       "}}\n",
       "\n",
       "// Listen for the clearing of the current output cell\n",
       "var outputEl = gd.closest('.output');\n",
       "if (outputEl) {{\n",
       "    x.observe(outputEl, {childList: true});\n",
       "}}\n",
       "\n",
       "                        })                };                });            </script>        </div>"
      ]
     },
     "metadata": {},
     "output_type": "display_data"
    }
   ],
   "source": [
    "fig_subjectbygender = px.bar(sample, x = 'songsubject', color = 'gender')\n",
    "fig_subjectbygender.show()"
   ]
  },
  {
   "cell_type": "code",
   "execution_count": null,
   "id": "a80138aa-bfe5-40bd-8d97-7946ced76e1f",
   "metadata": {},
   "outputs": [],
   "source": [
    "long_df = px.data.medals_long()\n",
    "\n",
    "fig = px.bar(long_df, x=\"nation\", y=\"count\", color=\"medal\", title=\"Long-Form Input\")\n",
    "fig.show()"
   ]
  },
  {
   "cell_type": "markdown",
   "id": "3bd6c533-aa13-4643-b828-c438d5b3f127",
   "metadata": {},
   "source": [
    "#### Options for Next Steps:\n",
    "* Stick to Analytical? Broaden our sample size and perform further EDA on current subject (i.e., looking at trends across time, making graphics crossing songsubject with other variables)\n",
    "* Apply Machine Learning? could test the predictive factor of songsubject and success likelihood, or artist gender, time period etc; but success is prime motivator\n",
    "* Text Analytics? Maybe implement sentiment analysis or an PCA model to break apart main sentiments behind lyrical chunks across songs and map this onto song subject\n",
    "\n",
    "  **should maybe incorporate success into this as well, since that has the greatest applicability potential* "
   ]
  },
  {
   "cell_type": "markdown",
   "id": "8d0afb41-5bae-4dec-ab7d-93a81b06c79f",
   "metadata": {},
   "source": [
    "### Data Extraction Part 2: Compare Number One Slot Songs with Number 50, and Number 100 Slot Songs"
   ]
  },
  {
   "cell_type": "code",
   "execution_count": 5,
   "id": "3fae49d9",
   "metadata": {},
   "outputs": [],
   "source": [
    "top50 = names[names[\"highestRank\"] == 50]\n",
    "top100 = names[names[\"highestRank\"] == 100]"
   ]
  },
  {
   "cell_type": "code",
   "execution_count": null,
   "id": "f2da8cc1",
   "metadata": {},
   "outputs": [],
   "source": [
    "# DON'T ADD TO THIS CELL!\n",
    "# *The songs WILL resample every time*\n",
    "sample50 = top50.sample(20)"
   ]
  },
  {
   "cell_type": "code",
   "execution_count": 17,
   "id": "c3c6ee5d",
   "metadata": {},
   "outputs": [
    {
     "data": {
      "text/html": [
       "<div>\n",
       "<style scoped>\n",
       "    .dataframe tbody tr th:only-of-type {\n",
       "        vertical-align: middle;\n",
       "    }\n",
       "\n",
       "    .dataframe tbody tr th {\n",
       "        vertical-align: top;\n",
       "    }\n",
       "\n",
       "    .dataframe thead th {\n",
       "        text-align: right;\n",
       "    }\n",
       "</style>\n",
       "<table border=\"1\" class=\"dataframe\">\n",
       "  <thead>\n",
       "    <tr style=\"text-align: right;\">\n",
       "      <th></th>\n",
       "      <th>artist</th>\n",
       "      <th>song</th>\n",
       "      <th>sentence</th>\n",
       "      <th>highestRank</th>\n",
       "      <th>year</th>\n",
       "      <th>nonPerson</th>\n",
       "      <th>name</th>\n",
       "    </tr>\n",
       "  </thead>\n",
       "  <tbody>\n",
       "    <tr>\n",
       "      <th>15024</th>\n",
       "      <td>Ray Stevens</td>\n",
       "      <td>Bridget The Midget (The Queen Of The Blues)</td>\n",
       "      <td>So I called up Bill and told him my plan</td>\n",
       "      <td>50.0</td>\n",
       "      <td>1970.0</td>\n",
       "      <td>0</td>\n",
       "      <td>Bill</td>\n",
       "    </tr>\n",
       "    <tr>\n",
       "      <th>19222</th>\n",
       "      <td>Total</td>\n",
       "      <td>When Boy Meets Girl</td>\n",
       "      <td>Baby, baby, baby, baby.</td>\n",
       "      <td>50.0</td>\n",
       "      <td>1996.0</td>\n",
       "      <td>0</td>\n",
       "      <td>Baby</td>\n",
       "    </tr>\n",
       "    <tr>\n",
       "      <th>8559</th>\n",
       "      <td>Gordon Lightfoot</td>\n",
       "      <td>Baby Step Back</td>\n",
       "      <td>Baby walk back baby walk back</td>\n",
       "      <td>50.0</td>\n",
       "      <td>1982.0</td>\n",
       "      <td>0</td>\n",
       "      <td>Baby</td>\n",
       "    </tr>\n",
       "    <tr>\n",
       "      <th>16909</th>\n",
       "      <td>Teena Marie</td>\n",
       "      <td>Square Biz</td>\n",
       "      <td>And Nikki Giovanni just to name a few</td>\n",
       "      <td>50.0</td>\n",
       "      <td>1981.0</td>\n",
       "      <td>0</td>\n",
       "      <td>Nikki</td>\n",
       "    </tr>\n",
       "    <tr>\n",
       "      <th>4388</th>\n",
       "      <td>Brantley Gilbert</td>\n",
       "      <td>Country Must Be Country Wide</td>\n",
       "      <td>Playin' Cash, Hank, Willie, and Waylon</td>\n",
       "      <td>50.0</td>\n",
       "      <td>2011.0</td>\n",
       "      <td>0</td>\n",
       "      <td>Waylon</td>\n",
       "    </tr>\n",
       "    <tr>\n",
       "      <th>16911</th>\n",
       "      <td>Teena Marie</td>\n",
       "      <td>Square Biz</td>\n",
       "      <td>Sarah Vaughn, Johann Sebastian Bach</td>\n",
       "      <td>50.0</td>\n",
       "      <td>1981.0</td>\n",
       "      <td>0</td>\n",
       "      <td>Sarah</td>\n",
       "    </tr>\n",
       "    <tr>\n",
       "      <th>4414</th>\n",
       "      <td>Breaking Benjamin</td>\n",
       "      <td>The Diary Of Jane</td>\n",
       "      <td>In the diary of Jane</td>\n",
       "      <td>50.0</td>\n",
       "      <td>2006.0</td>\n",
       "      <td>0</td>\n",
       "      <td>Jane</td>\n",
       "    </tr>\n",
       "    <tr>\n",
       "      <th>12751</th>\n",
       "      <td>Marvin Gaye</td>\n",
       "      <td>You're The Man (Part 1)</td>\n",
       "      <td>I believe America's at stake</td>\n",
       "      <td>50.0</td>\n",
       "      <td>1972.0</td>\n",
       "      <td>0</td>\n",
       "      <td>America</td>\n",
       "    </tr>\n",
       "    <tr>\n",
       "      <th>15088</th>\n",
       "      <td>Red Hot Chili Peppers</td>\n",
       "      <td>Tell Me Baby</td>\n",
       "      <td>Boston and a Kansas city</td>\n",
       "      <td>50.0</td>\n",
       "      <td>2006.0</td>\n",
       "      <td>city</td>\n",
       "      <td>Boston</td>\n",
       "    </tr>\n",
       "    <tr>\n",
       "      <th>16320</th>\n",
       "      <td>Snoop Dogg Featuring Master P, Nate Dogg, Butc...</td>\n",
       "      <td>Lay Low</td>\n",
       "      <td>But they call me Bill Clinton for all the head...</td>\n",
       "      <td>50.0</td>\n",
       "      <td>2001.0</td>\n",
       "      <td>0</td>\n",
       "      <td>Bill</td>\n",
       "    </tr>\n",
       "    <tr>\n",
       "      <th>14763</th>\n",
       "      <td>Public Enemy</td>\n",
       "      <td>Can't Truss It</td>\n",
       "      <td>Wearin' red, white and blue Jack and his crew</td>\n",
       "      <td>50.0</td>\n",
       "      <td>1991.0</td>\n",
       "      <td>0</td>\n",
       "      <td>Jack</td>\n",
       "    </tr>\n",
       "    <tr>\n",
       "      <th>15194</th>\n",
       "      <td>Rich Homie Quan</td>\n",
       "      <td>Type Of Way</td>\n",
       "      <td>Sade, I'm a smooth operator</td>\n",
       "      <td>50.0</td>\n",
       "      <td>2013.0</td>\n",
       "      <td>0</td>\n",
       "      <td>Sade</td>\n",
       "    </tr>\n",
       "    <tr>\n",
       "      <th>15020</th>\n",
       "      <td>Ray Stevens</td>\n",
       "      <td>Bridget The Midget (The Queen Of The Blues)</td>\n",
       "      <td>But me an' ol' Bill lucked out and got ringsid...</td>\n",
       "      <td>50.0</td>\n",
       "      <td>1970.0</td>\n",
       "      <td>0</td>\n",
       "      <td>Bill</td>\n",
       "    </tr>\n",
       "    <tr>\n",
       "      <th>4390</th>\n",
       "      <td>Brantley Gilbert</td>\n",
       "      <td>Country Must Be Country Wide</td>\n",
       "      <td>Playin' Cash, Hank, Willie, and Waylon</td>\n",
       "      <td>50.0</td>\n",
       "      <td>2011.0</td>\n",
       "      <td>0</td>\n",
       "      <td>Waylon</td>\n",
       "    </tr>\n",
       "    <tr>\n",
       "      <th>19231</th>\n",
       "      <td>Total</td>\n",
       "      <td>When Boy Meets Girl</td>\n",
       "      <td>Baby, baby.</td>\n",
       "      <td>50.0</td>\n",
       "      <td>1996.0</td>\n",
       "      <td>0</td>\n",
       "      <td>Baby</td>\n",
       "    </tr>\n",
       "    <tr>\n",
       "      <th>14764</th>\n",
       "      <td>Public Enemy</td>\n",
       "      <td>Can't Truss It</td>\n",
       "      <td>King and chief probably had a big beef</td>\n",
       "      <td>50.0</td>\n",
       "      <td>1991.0</td>\n",
       "      <td>0</td>\n",
       "      <td>King</td>\n",
       "    </tr>\n",
       "    <tr>\n",
       "      <th>6245</th>\n",
       "      <td>Dolly Parton</td>\n",
       "      <td>Romeo</td>\n",
       "      <td>Romeo, Romeo</td>\n",
       "      <td>50.0</td>\n",
       "      <td>1993.0</td>\n",
       "      <td>0</td>\n",
       "      <td>Romeo</td>\n",
       "    </tr>\n",
       "    <tr>\n",
       "      <th>604</th>\n",
       "      <td>Kendrick Lamar</td>\n",
       "      <td>Fear.</td>\n",
       "      <td>The children of Israel, he's gonna punish us f...</td>\n",
       "      <td>50.0</td>\n",
       "      <td>2017.0</td>\n",
       "      <td>country</td>\n",
       "      <td>Israel</td>\n",
       "    </tr>\n",
       "    <tr>\n",
       "      <th>6228</th>\n",
       "      <td>Dolly Parton</td>\n",
       "      <td>Romeo</td>\n",
       "      <td>Romeo comes struttin' in</td>\n",
       "      <td>50.0</td>\n",
       "      <td>1993.0</td>\n",
       "      <td>0</td>\n",
       "      <td>Romeo</td>\n",
       "    </tr>\n",
       "    <tr>\n",
       "      <th>6237</th>\n",
       "      <td>Dolly Parton</td>\n",
       "      <td>Romeo</td>\n",
       "      <td>Romeo, Romeo, I want to be your Juliet</td>\n",
       "      <td>50.0</td>\n",
       "      <td>1993.0</td>\n",
       "      <td>0</td>\n",
       "      <td>Romeo</td>\n",
       "    </tr>\n",
       "  </tbody>\n",
       "</table>\n",
       "</div>"
      ],
      "text/plain": [
       "                                                  artist  \\\n",
       "15024                                        Ray Stevens   \n",
       "19222                                              Total   \n",
       "8559                                    Gordon Lightfoot   \n",
       "16909                                        Teena Marie   \n",
       "4388                                    Brantley Gilbert   \n",
       "16911                                        Teena Marie   \n",
       "4414                                   Breaking Benjamin   \n",
       "12751                                        Marvin Gaye   \n",
       "15088                              Red Hot Chili Peppers   \n",
       "16320  Snoop Dogg Featuring Master P, Nate Dogg, Butc...   \n",
       "14763                                       Public Enemy   \n",
       "15194                                    Rich Homie Quan   \n",
       "15020                                        Ray Stevens   \n",
       "4390                                    Brantley Gilbert   \n",
       "19231                                              Total   \n",
       "14764                                       Public Enemy   \n",
       "6245                                        Dolly Parton   \n",
       "604                                       Kendrick Lamar   \n",
       "6228                                        Dolly Parton   \n",
       "6237                                        Dolly Parton   \n",
       "\n",
       "                                              song  \\\n",
       "15024  Bridget The Midget (The Queen Of The Blues)   \n",
       "19222                          When Boy Meets Girl   \n",
       "8559                                Baby Step Back   \n",
       "16909                                   Square Biz   \n",
       "4388                  Country Must Be Country Wide   \n",
       "16911                                   Square Biz   \n",
       "4414                             The Diary Of Jane   \n",
       "12751                      You're The Man (Part 1)   \n",
       "15088                                 Tell Me Baby   \n",
       "16320                                      Lay Low   \n",
       "14763                               Can't Truss It   \n",
       "15194                                  Type Of Way   \n",
       "15020  Bridget The Midget (The Queen Of The Blues)   \n",
       "4390                  Country Must Be Country Wide   \n",
       "19231                          When Boy Meets Girl   \n",
       "14764                               Can't Truss It   \n",
       "6245                                         Romeo   \n",
       "604                                          Fear.   \n",
       "6228                                         Romeo   \n",
       "6237                                         Romeo   \n",
       "\n",
       "                                                sentence  highestRank    year  \\\n",
       "15024           So I called up Bill and told him my plan         50.0  1970.0   \n",
       "19222                            Baby, baby, baby, baby.         50.0  1996.0   \n",
       "8559                       Baby walk back baby walk back         50.0  1982.0   \n",
       "16909              And Nikki Giovanni just to name a few         50.0  1981.0   \n",
       "4388              Playin' Cash, Hank, Willie, and Waylon         50.0  2011.0   \n",
       "16911                Sarah Vaughn, Johann Sebastian Bach         50.0  1981.0   \n",
       "4414                                In the diary of Jane         50.0  2006.0   \n",
       "12751                       I believe America's at stake         50.0  1972.0   \n",
       "15088                           Boston and a Kansas city         50.0  2006.0   \n",
       "16320  But they call me Bill Clinton for all the head...         50.0  2001.0   \n",
       "14763      Wearin' red, white and blue Jack and his crew         50.0  1991.0   \n",
       "15194                        Sade, I'm a smooth operator         50.0  2013.0   \n",
       "15020  But me an' ol' Bill lucked out and got ringsid...         50.0  1970.0   \n",
       "4390              Playin' Cash, Hank, Willie, and Waylon         50.0  2011.0   \n",
       "19231                                        Baby, baby.         50.0  1996.0   \n",
       "14764             King and chief probably had a big beef         50.0  1991.0   \n",
       "6245                                        Romeo, Romeo         50.0  1993.0   \n",
       "604    The children of Israel, he's gonna punish us f...         50.0  2017.0   \n",
       "6228                            Romeo comes struttin' in         50.0  1993.0   \n",
       "6237              Romeo, Romeo, I want to be your Juliet         50.0  1993.0   \n",
       "\n",
       "      nonPerson     name  \n",
       "15024         0     Bill  \n",
       "19222         0     Baby  \n",
       "8559          0     Baby  \n",
       "16909         0    Nikki  \n",
       "4388          0   Waylon  \n",
       "16911         0    Sarah  \n",
       "4414          0     Jane  \n",
       "12751         0  America  \n",
       "15088      city   Boston  \n",
       "16320         0     Bill  \n",
       "14763         0     Jack  \n",
       "15194         0     Sade  \n",
       "15020         0     Bill  \n",
       "4390          0   Waylon  \n",
       "19231         0     Baby  \n",
       "14764         0     King  \n",
       "6245          0    Romeo  \n",
       "604     country   Israel  \n",
       "6228          0    Romeo  \n",
       "6237          0    Romeo  "
      ]
     },
     "execution_count": 17,
     "metadata": {},
     "output_type": "execute_result"
    }
   ],
   "source": [
    "sample50 = sample50.fillna(0)\n",
    "sample50"
   ]
  },
  {
   "cell_type": "code",
   "execution_count": null,
   "id": "69713a98",
   "metadata": {},
   "outputs": [],
   "source": [
    "# DON'T ADD TO THIS CELL!\n",
    "# *The songs WILL resample every time*\n",
    "sample100 = top100.sample(20)"
   ]
  },
  {
   "cell_type": "code",
   "execution_count": 16,
   "id": "69416565",
   "metadata": {},
   "outputs": [
    {
     "data": {
      "text/html": [
       "<div>\n",
       "<style scoped>\n",
       "    .dataframe tbody tr th:only-of-type {\n",
       "        vertical-align: middle;\n",
       "    }\n",
       "\n",
       "    .dataframe tbody tr th {\n",
       "        vertical-align: top;\n",
       "    }\n",
       "\n",
       "    .dataframe thead th {\n",
       "        text-align: right;\n",
       "    }\n",
       "</style>\n",
       "<table border=\"1\" class=\"dataframe\">\n",
       "  <thead>\n",
       "    <tr style=\"text-align: right;\">\n",
       "      <th></th>\n",
       "      <th>artist</th>\n",
       "      <th>song</th>\n",
       "      <th>sentence</th>\n",
       "      <th>highestRank</th>\n",
       "      <th>year</th>\n",
       "      <th>nonPerson</th>\n",
       "      <th>name</th>\n",
       "    </tr>\n",
       "  </thead>\n",
       "  <tbody>\n",
       "    <tr>\n",
       "      <th>517</th>\n",
       "      <td>Mitchell Tenpenny</td>\n",
       "      <td>Drunk Me</td>\n",
       "      <td>Baby can you come over, I always find those wo...</td>\n",
       "      <td>100.0</td>\n",
       "      <td>2018.0</td>\n",
       "      <td>0</td>\n",
       "      <td>Baby</td>\n",
       "    </tr>\n",
       "    <tr>\n",
       "      <th>1136</th>\n",
       "      <td>6ix9ine Featuring Nicki Minaj &amp; Kanye West</td>\n",
       "      <td>MAMA</td>\n",
       "      <td>Got him cummin', cummin', Roger, over, dispatch</td>\n",
       "      <td>100.0</td>\n",
       "      <td>2018.0</td>\n",
       "      <td>0</td>\n",
       "      <td>Roger</td>\n",
       "    </tr>\n",
       "    <tr>\n",
       "      <th>1314</th>\n",
       "      <td>Offset &amp; Metro Boomin</td>\n",
       "      <td>Nightmare</td>\n",
       "      <td>Freddy Kruger, give 'em a nightmare</td>\n",
       "      <td>100.0</td>\n",
       "      <td>2017.0</td>\n",
       "      <td>0</td>\n",
       "      <td>Freddy</td>\n",
       "    </tr>\n",
       "    <tr>\n",
       "      <th>8056</th>\n",
       "      <td>Game</td>\n",
       "      <td>Martians Vs Goblins</td>\n",
       "      <td>So I smacked them bitches wearing Bishop Don J...</td>\n",
       "      <td>100.0</td>\n",
       "      <td>2011.0</td>\n",
       "      <td>title</td>\n",
       "      <td>Don</td>\n",
       "    </tr>\n",
       "    <tr>\n",
       "      <th>1131</th>\n",
       "      <td>6ix9ine Featuring Nicki Minaj &amp; Kanye West</td>\n",
       "      <td>MAMA</td>\n",
       "      <td>Whole squad on point, bunch of Chris Pauls</td>\n",
       "      <td>100.0</td>\n",
       "      <td>2018.0</td>\n",
       "      <td>0</td>\n",
       "      <td>Chris</td>\n",
       "    </tr>\n",
       "    <tr>\n",
       "      <th>20365</th>\n",
       "      <td>Young Thug</td>\n",
       "      <td>Check</td>\n",
       "      <td>Baby baby, baby baby baby, I need racks, hey!</td>\n",
       "      <td>100.0</td>\n",
       "      <td>2015.0</td>\n",
       "      <td>0</td>\n",
       "      <td>Baby</td>\n",
       "    </tr>\n",
       "    <tr>\n",
       "      <th>43</th>\n",
       "      <td>Lil Uzi Vert</td>\n",
       "      <td>444+222</td>\n",
       "      <td>Million, on me, Jay Z</td>\n",
       "      <td>100.0</td>\n",
       "      <td>2017.0</td>\n",
       "      <td>0</td>\n",
       "      <td>Jay</td>\n",
       "    </tr>\n",
       "    <tr>\n",
       "      <th>16820</th>\n",
       "      <td>Taylor John Williams</td>\n",
       "      <td>Royals</td>\n",
       "      <td>But everybody's like Cristal, Maybach, diamond...</td>\n",
       "      <td>100.0</td>\n",
       "      <td>2014.0</td>\n",
       "      <td>drink</td>\n",
       "      <td>Cristal</td>\n",
       "    </tr>\n",
       "    <tr>\n",
       "      <th>795</th>\n",
       "      <td>Chris Brown Featuring Future &amp; Young Thug</td>\n",
       "      <td>High End</td>\n",
       "      <td>Tony</td>\n",
       "      <td>100.0</td>\n",
       "      <td>2017.0</td>\n",
       "      <td>0</td>\n",
       "      <td>Tony</td>\n",
       "    </tr>\n",
       "    <tr>\n",
       "      <th>19894</th>\n",
       "      <td>Wale Featuring Lil Wayne</td>\n",
       "      <td>Running Back</td>\n",
       "      <td>Since Jesus of Nazareth, the realest you've co...</td>\n",
       "      <td>100.0</td>\n",
       "      <td>2017.0</td>\n",
       "      <td>0</td>\n",
       "      <td>Jesus</td>\n",
       "    </tr>\n",
       "    <tr>\n",
       "      <th>1317</th>\n",
       "      <td>Offset &amp; Metro Boomin</td>\n",
       "      <td>Nightmare</td>\n",
       "      <td>Freddy Kruger, give 'em a nightmare</td>\n",
       "      <td>100.0</td>\n",
       "      <td>2017.0</td>\n",
       "      <td>0</td>\n",
       "      <td>Freddy</td>\n",
       "    </tr>\n",
       "    <tr>\n",
       "      <th>101</th>\n",
       "      <td>Halsey Featuring Big Sean &amp; Stefflon Don</td>\n",
       "      <td>Alone</td>\n",
       "      <td>Baby, as soon as you meet me</td>\n",
       "      <td>100.0</td>\n",
       "      <td>2018.0</td>\n",
       "      <td>0</td>\n",
       "      <td>Baby</td>\n",
       "    </tr>\n",
       "    <tr>\n",
       "      <th>20270</th>\n",
       "      <td>Yo Gotti Featuring Jeezy &amp; YG</td>\n",
       "      <td>Act Right</td>\n",
       "      <td>Michael Jordan with the chopper man I hit you ...</td>\n",
       "      <td>100.0</td>\n",
       "      <td>2013.0</td>\n",
       "      <td>0</td>\n",
       "      <td>Michael</td>\n",
       "    </tr>\n",
       "    <tr>\n",
       "      <th>1154</th>\n",
       "      <td>Becky G Featuring Bad Bunny</td>\n",
       "      <td>Mayores</td>\n",
       "      <td>Becky G</td>\n",
       "      <td>100.0</td>\n",
       "      <td>2017.0</td>\n",
       "      <td>0</td>\n",
       "      <td>Becky</td>\n",
       "    </tr>\n",
       "    <tr>\n",
       "      <th>581</th>\n",
       "      <td>Calvin Harris Featuring Kehlani &amp; Lil Yachty</td>\n",
       "      <td>Faking It</td>\n",
       "      <td>Go Lani, go Lani</td>\n",
       "      <td>100.0</td>\n",
       "      <td>2017.0</td>\n",
       "      <td>0</td>\n",
       "      <td>Lani</td>\n",
       "    </tr>\n",
       "    <tr>\n",
       "      <th>1135</th>\n",
       "      <td>6ix9ine Featuring Nicki Minaj &amp; Kanye West</td>\n",
       "      <td>MAMA</td>\n",
       "      <td>I just bought my bitch them Kylie Jenner lip f...</td>\n",
       "      <td>100.0</td>\n",
       "      <td>2018.0</td>\n",
       "      <td>0</td>\n",
       "      <td>Kylie</td>\n",
       "    </tr>\n",
       "    <tr>\n",
       "      <th>19356</th>\n",
       "      <td>Trick-Trick Featuring Eminem</td>\n",
       "      <td>Welcome 2 Detroit</td>\n",
       "      <td>Marshall done called me to 54 and laced the track</td>\n",
       "      <td>100.0</td>\n",
       "      <td>2005.0</td>\n",
       "      <td>0</td>\n",
       "      <td>Marshall</td>\n",
       "    </tr>\n",
       "    <tr>\n",
       "      <th>780</th>\n",
       "      <td>Derez De'Shon</td>\n",
       "      <td>Hardaway</td>\n",
       "      <td>Hardaway, hardaway, hardaway, young Penny Hard...</td>\n",
       "      <td>100.0</td>\n",
       "      <td>2018.0</td>\n",
       "      <td>0</td>\n",
       "      <td>Penny</td>\n",
       "    </tr>\n",
       "    <tr>\n",
       "      <th>792</th>\n",
       "      <td>Chris Brown Featuring Future &amp; Young Thug</td>\n",
       "      <td>High End</td>\n",
       "      <td>Plain Jane watch, Richard Mille</td>\n",
       "      <td>100.0</td>\n",
       "      <td>2017.0</td>\n",
       "      <td>0</td>\n",
       "      <td>Richard</td>\n",
       "    </tr>\n",
       "    <tr>\n",
       "      <th>1269</th>\n",
       "      <td>Migos</td>\n",
       "      <td>Narcos</td>\n",
       "      <td>Got dope like Pablo</td>\n",
       "      <td>100.0</td>\n",
       "      <td>2018.0</td>\n",
       "      <td>0</td>\n",
       "      <td>Pablo</td>\n",
       "    </tr>\n",
       "  </tbody>\n",
       "</table>\n",
       "</div>"
      ],
      "text/plain": [
       "                                             artist                 song  \\\n",
       "517                               Mitchell Tenpenny             Drunk Me   \n",
       "1136     6ix9ine Featuring Nicki Minaj & Kanye West                 MAMA   \n",
       "1314                          Offset & Metro Boomin            Nightmare   \n",
       "8056                                           Game  Martians Vs Goblins   \n",
       "1131     6ix9ine Featuring Nicki Minaj & Kanye West                 MAMA   \n",
       "20365                                    Young Thug                Check   \n",
       "43                                     Lil Uzi Vert              444+222   \n",
       "16820                          Taylor John Williams               Royals   \n",
       "795       Chris Brown Featuring Future & Young Thug             High End   \n",
       "19894                      Wale Featuring Lil Wayne         Running Back   \n",
       "1317                          Offset & Metro Boomin            Nightmare   \n",
       "101        Halsey Featuring Big Sean & Stefflon Don                Alone   \n",
       "20270                 Yo Gotti Featuring Jeezy & YG            Act Right   \n",
       "1154                    Becky G Featuring Bad Bunny              Mayores   \n",
       "581    Calvin Harris Featuring Kehlani & Lil Yachty            Faking It   \n",
       "1135     6ix9ine Featuring Nicki Minaj & Kanye West                 MAMA   \n",
       "19356                  Trick-Trick Featuring Eminem    Welcome 2 Detroit   \n",
       "780                                   Derez De'Shon             Hardaway   \n",
       "792       Chris Brown Featuring Future & Young Thug             High End   \n",
       "1269                                          Migos               Narcos   \n",
       "\n",
       "                                                sentence  highestRank    year  \\\n",
       "517    Baby can you come over, I always find those wo...        100.0  2018.0   \n",
       "1136     Got him cummin', cummin', Roger, over, dispatch        100.0  2018.0   \n",
       "1314                 Freddy Kruger, give 'em a nightmare        100.0  2017.0   \n",
       "8056   So I smacked them bitches wearing Bishop Don J...        100.0  2011.0   \n",
       "1131          Whole squad on point, bunch of Chris Pauls        100.0  2018.0   \n",
       "20365      Baby baby, baby baby baby, I need racks, hey!        100.0  2015.0   \n",
       "43                                 Million, on me, Jay Z        100.0  2017.0   \n",
       "16820  But everybody's like Cristal, Maybach, diamond...        100.0  2014.0   \n",
       "795                                                 Tony        100.0  2017.0   \n",
       "19894  Since Jesus of Nazareth, the realest you've co...        100.0  2017.0   \n",
       "1317                 Freddy Kruger, give 'em a nightmare        100.0  2017.0   \n",
       "101                         Baby, as soon as you meet me        100.0  2018.0   \n",
       "20270  Michael Jordan with the chopper man I hit you ...        100.0  2013.0   \n",
       "1154                                             Becky G        100.0  2017.0   \n",
       "581                                     Go Lani, go Lani        100.0  2017.0   \n",
       "1135   I just bought my bitch them Kylie Jenner lip f...        100.0  2018.0   \n",
       "19356  Marshall done called me to 54 and laced the track        100.0  2005.0   \n",
       "780    Hardaway, hardaway, hardaway, young Penny Hard...        100.0  2018.0   \n",
       "792                      Plain Jane watch, Richard Mille        100.0  2017.0   \n",
       "1269                                 Got dope like Pablo        100.0  2018.0   \n",
       "\n",
       "      nonPerson      name  \n",
       "517           0      Baby  \n",
       "1136          0     Roger  \n",
       "1314          0    Freddy  \n",
       "8056      title       Don  \n",
       "1131          0     Chris  \n",
       "20365         0      Baby  \n",
       "43            0       Jay  \n",
       "16820     drink   Cristal  \n",
       "795           0      Tony  \n",
       "19894         0     Jesus  \n",
       "1317          0    Freddy  \n",
       "101           0      Baby  \n",
       "20270         0   Michael  \n",
       "1154          0     Becky  \n",
       "581           0      Lani  \n",
       "1135          0     Kylie  \n",
       "19356         0  Marshall  \n",
       "780           0     Penny  \n",
       "792           0   Richard  \n",
       "1269          0     Pablo  "
      ]
     },
     "execution_count": 16,
     "metadata": {},
     "output_type": "execute_result"
    }
   ],
   "source": [
    "sample100 = sample100.fillna(0)\n",
    "sample100"
   ]
  },
  {
   "cell_type": "markdown",
   "id": "d927b30a",
   "metadata": {},
   "source": [
    "### Add Columns for Gender of Artist and Song Subject\n",
    "\n",
    "    - sample50"
   ]
  },
  {
   "cell_type": "code",
   "execution_count": 19,
   "id": "507c490e",
   "metadata": {},
   "outputs": [
    {
     "data": {
      "text/html": [
       "<div>\n",
       "<style scoped>\n",
       "    .dataframe tbody tr th:only-of-type {\n",
       "        vertical-align: middle;\n",
       "    }\n",
       "\n",
       "    .dataframe tbody tr th {\n",
       "        vertical-align: top;\n",
       "    }\n",
       "\n",
       "    .dataframe thead th {\n",
       "        text-align: right;\n",
       "    }\n",
       "</style>\n",
       "<table border=\"1\" class=\"dataframe\">\n",
       "  <thead>\n",
       "    <tr style=\"text-align: right;\">\n",
       "      <th></th>\n",
       "      <th>artist</th>\n",
       "      <th>song</th>\n",
       "      <th>sentence</th>\n",
       "      <th>highestRank</th>\n",
       "      <th>year</th>\n",
       "      <th>nonPerson</th>\n",
       "      <th>name</th>\n",
       "      <th>gender</th>\n",
       "      <th>songsubject</th>\n",
       "    </tr>\n",
       "  </thead>\n",
       "  <tbody>\n",
       "    <tr>\n",
       "      <th>15024</th>\n",
       "      <td>Ray Stevens</td>\n",
       "      <td>Bridget The Midget (The Queen Of The Blues)</td>\n",
       "      <td>So I called up Bill and told him my plan</td>\n",
       "      <td>50.0</td>\n",
       "      <td>1970.0</td>\n",
       "      <td>0</td>\n",
       "      <td>Bill</td>\n",
       "      <td>Male</td>\n",
       "      <td>M</td>\n",
       "    </tr>\n",
       "    <tr>\n",
       "      <th>19222</th>\n",
       "      <td>Total</td>\n",
       "      <td>When Boy Meets Girl</td>\n",
       "      <td>Baby, baby, baby, baby.</td>\n",
       "      <td>50.0</td>\n",
       "      <td>1996.0</td>\n",
       "      <td>0</td>\n",
       "      <td>Baby</td>\n",
       "      <td>Female</td>\n",
       "      <td>Baby</td>\n",
       "    </tr>\n",
       "    <tr>\n",
       "      <th>8559</th>\n",
       "      <td>Gordon Lightfoot</td>\n",
       "      <td>Baby Step Back</td>\n",
       "      <td>Baby walk back baby walk back</td>\n",
       "      <td>50.0</td>\n",
       "      <td>1982.0</td>\n",
       "      <td>0</td>\n",
       "      <td>Baby</td>\n",
       "      <td>Male</td>\n",
       "      <td>Baby</td>\n",
       "    </tr>\n",
       "    <tr>\n",
       "      <th>16909</th>\n",
       "      <td>Teena Marie</td>\n",
       "      <td>Square Biz</td>\n",
       "      <td>And Nikki Giovanni just to name a few</td>\n",
       "      <td>50.0</td>\n",
       "      <td>1981.0</td>\n",
       "      <td>0</td>\n",
       "      <td>Nikki</td>\n",
       "      <td>Female</td>\n",
       "      <td>F</td>\n",
       "    </tr>\n",
       "    <tr>\n",
       "      <th>4388</th>\n",
       "      <td>Brantley Gilbert</td>\n",
       "      <td>Country Must Be Country Wide</td>\n",
       "      <td>Playin' Cash, Hank, Willie, and Waylon</td>\n",
       "      <td>50.0</td>\n",
       "      <td>2011.0</td>\n",
       "      <td>0</td>\n",
       "      <td>Waylon</td>\n",
       "      <td>Male</td>\n",
       "      <td>M</td>\n",
       "    </tr>\n",
       "    <tr>\n",
       "      <th>16911</th>\n",
       "      <td>Teena Marie</td>\n",
       "      <td>Square Biz</td>\n",
       "      <td>Sarah Vaughn, Johann Sebastian Bach</td>\n",
       "      <td>50.0</td>\n",
       "      <td>1981.0</td>\n",
       "      <td>0</td>\n",
       "      <td>Sarah</td>\n",
       "      <td>Female</td>\n",
       "      <td>F</td>\n",
       "    </tr>\n",
       "    <tr>\n",
       "      <th>4414</th>\n",
       "      <td>Breaking Benjamin</td>\n",
       "      <td>The Diary Of Jane</td>\n",
       "      <td>In the diary of Jane</td>\n",
       "      <td>50.0</td>\n",
       "      <td>2006.0</td>\n",
       "      <td>0</td>\n",
       "      <td>Jane</td>\n",
       "      <td>Male</td>\n",
       "      <td>F</td>\n",
       "    </tr>\n",
       "    <tr>\n",
       "      <th>12751</th>\n",
       "      <td>Marvin Gaye</td>\n",
       "      <td>You're The Man (Part 1)</td>\n",
       "      <td>I believe America's at stake</td>\n",
       "      <td>50.0</td>\n",
       "      <td>1972.0</td>\n",
       "      <td>0</td>\n",
       "      <td>America</td>\n",
       "      <td>Male</td>\n",
       "      <td>Baby</td>\n",
       "    </tr>\n",
       "    <tr>\n",
       "      <th>15088</th>\n",
       "      <td>Red Hot Chili Peppers</td>\n",
       "      <td>Tell Me Baby</td>\n",
       "      <td>Boston and a Kansas city</td>\n",
       "      <td>50.0</td>\n",
       "      <td>2006.0</td>\n",
       "      <td>city</td>\n",
       "      <td>Boston</td>\n",
       "      <td>Male</td>\n",
       "      <td>Baby</td>\n",
       "    </tr>\n",
       "    <tr>\n",
       "      <th>16320</th>\n",
       "      <td>Snoop Dogg Featuring Master P, Nate Dogg, Butc...</td>\n",
       "      <td>Lay Low</td>\n",
       "      <td>But they call me Bill Clinton for all the head...</td>\n",
       "      <td>50.0</td>\n",
       "      <td>2001.0</td>\n",
       "      <td>0</td>\n",
       "      <td>Bill</td>\n",
       "      <td>Male</td>\n",
       "      <td>M</td>\n",
       "    </tr>\n",
       "    <tr>\n",
       "      <th>14763</th>\n",
       "      <td>Public Enemy</td>\n",
       "      <td>Can't Truss It</td>\n",
       "      <td>Wearin' red, white and blue Jack and his crew</td>\n",
       "      <td>50.0</td>\n",
       "      <td>1991.0</td>\n",
       "      <td>0</td>\n",
       "      <td>Jack</td>\n",
       "      <td>Male</td>\n",
       "      <td>M</td>\n",
       "    </tr>\n",
       "    <tr>\n",
       "      <th>15194</th>\n",
       "      <td>Rich Homie Quan</td>\n",
       "      <td>Type Of Way</td>\n",
       "      <td>Sade, I'm a smooth operator</td>\n",
       "      <td>50.0</td>\n",
       "      <td>2013.0</td>\n",
       "      <td>0</td>\n",
       "      <td>Sade</td>\n",
       "      <td>Male</td>\n",
       "      <td>F</td>\n",
       "    </tr>\n",
       "    <tr>\n",
       "      <th>15020</th>\n",
       "      <td>Ray Stevens</td>\n",
       "      <td>Bridget The Midget (The Queen Of The Blues)</td>\n",
       "      <td>But me an' ol' Bill lucked out and got ringsid...</td>\n",
       "      <td>50.0</td>\n",
       "      <td>1970.0</td>\n",
       "      <td>0</td>\n",
       "      <td>Bill</td>\n",
       "      <td>Male</td>\n",
       "      <td>M</td>\n",
       "    </tr>\n",
       "    <tr>\n",
       "      <th>4390</th>\n",
       "      <td>Brantley Gilbert</td>\n",
       "      <td>Country Must Be Country Wide</td>\n",
       "      <td>Playin' Cash, Hank, Willie, and Waylon</td>\n",
       "      <td>50.0</td>\n",
       "      <td>2011.0</td>\n",
       "      <td>0</td>\n",
       "      <td>Waylon</td>\n",
       "      <td>Male</td>\n",
       "      <td>M</td>\n",
       "    </tr>\n",
       "    <tr>\n",
       "      <th>19231</th>\n",
       "      <td>Total</td>\n",
       "      <td>When Boy Meets Girl</td>\n",
       "      <td>Baby, baby.</td>\n",
       "      <td>50.0</td>\n",
       "      <td>1996.0</td>\n",
       "      <td>0</td>\n",
       "      <td>Baby</td>\n",
       "      <td>Female</td>\n",
       "      <td>Baby</td>\n",
       "    </tr>\n",
       "    <tr>\n",
       "      <th>14764</th>\n",
       "      <td>Public Enemy</td>\n",
       "      <td>Can't Truss It</td>\n",
       "      <td>King and chief probably had a big beef</td>\n",
       "      <td>50.0</td>\n",
       "      <td>1991.0</td>\n",
       "      <td>0</td>\n",
       "      <td>King</td>\n",
       "      <td>Male</td>\n",
       "      <td>Baby</td>\n",
       "    </tr>\n",
       "    <tr>\n",
       "      <th>6245</th>\n",
       "      <td>Dolly Parton</td>\n",
       "      <td>Romeo</td>\n",
       "      <td>Romeo, Romeo</td>\n",
       "      <td>50.0</td>\n",
       "      <td>1993.0</td>\n",
       "      <td>0</td>\n",
       "      <td>Romeo</td>\n",
       "      <td>Female</td>\n",
       "      <td>M</td>\n",
       "    </tr>\n",
       "    <tr>\n",
       "      <th>604</th>\n",
       "      <td>Kendrick Lamar</td>\n",
       "      <td>Fear.</td>\n",
       "      <td>The children of Israel, he's gonna punish us f...</td>\n",
       "      <td>50.0</td>\n",
       "      <td>2017.0</td>\n",
       "      <td>country</td>\n",
       "      <td>Israel</td>\n",
       "      <td>Male</td>\n",
       "      <td>NPN</td>\n",
       "    </tr>\n",
       "    <tr>\n",
       "      <th>6228</th>\n",
       "      <td>Dolly Parton</td>\n",
       "      <td>Romeo</td>\n",
       "      <td>Romeo comes struttin' in</td>\n",
       "      <td>50.0</td>\n",
       "      <td>1993.0</td>\n",
       "      <td>0</td>\n",
       "      <td>Romeo</td>\n",
       "      <td>Female</td>\n",
       "      <td>M</td>\n",
       "    </tr>\n",
       "    <tr>\n",
       "      <th>6237</th>\n",
       "      <td>Dolly Parton</td>\n",
       "      <td>Romeo</td>\n",
       "      <td>Romeo, Romeo, I want to be your Juliet</td>\n",
       "      <td>50.0</td>\n",
       "      <td>1993.0</td>\n",
       "      <td>0</td>\n",
       "      <td>Romeo</td>\n",
       "      <td>Female</td>\n",
       "      <td>M</td>\n",
       "    </tr>\n",
       "  </tbody>\n",
       "</table>\n",
       "</div>"
      ],
      "text/plain": [
       "                                                  artist  \\\n",
       "15024                                        Ray Stevens   \n",
       "19222                                              Total   \n",
       "8559                                    Gordon Lightfoot   \n",
       "16909                                        Teena Marie   \n",
       "4388                                    Brantley Gilbert   \n",
       "16911                                        Teena Marie   \n",
       "4414                                   Breaking Benjamin   \n",
       "12751                                        Marvin Gaye   \n",
       "15088                              Red Hot Chili Peppers   \n",
       "16320  Snoop Dogg Featuring Master P, Nate Dogg, Butc...   \n",
       "14763                                       Public Enemy   \n",
       "15194                                    Rich Homie Quan   \n",
       "15020                                        Ray Stevens   \n",
       "4390                                    Brantley Gilbert   \n",
       "19231                                              Total   \n",
       "14764                                       Public Enemy   \n",
       "6245                                        Dolly Parton   \n",
       "604                                       Kendrick Lamar   \n",
       "6228                                        Dolly Parton   \n",
       "6237                                        Dolly Parton   \n",
       "\n",
       "                                              song  \\\n",
       "15024  Bridget The Midget (The Queen Of The Blues)   \n",
       "19222                          When Boy Meets Girl   \n",
       "8559                                Baby Step Back   \n",
       "16909                                   Square Biz   \n",
       "4388                  Country Must Be Country Wide   \n",
       "16911                                   Square Biz   \n",
       "4414                             The Diary Of Jane   \n",
       "12751                      You're The Man (Part 1)   \n",
       "15088                                 Tell Me Baby   \n",
       "16320                                      Lay Low   \n",
       "14763                               Can't Truss It   \n",
       "15194                                  Type Of Way   \n",
       "15020  Bridget The Midget (The Queen Of The Blues)   \n",
       "4390                  Country Must Be Country Wide   \n",
       "19231                          When Boy Meets Girl   \n",
       "14764                               Can't Truss It   \n",
       "6245                                         Romeo   \n",
       "604                                          Fear.   \n",
       "6228                                         Romeo   \n",
       "6237                                         Romeo   \n",
       "\n",
       "                                                sentence  highestRank    year  \\\n",
       "15024           So I called up Bill and told him my plan         50.0  1970.0   \n",
       "19222                            Baby, baby, baby, baby.         50.0  1996.0   \n",
       "8559                       Baby walk back baby walk back         50.0  1982.0   \n",
       "16909              And Nikki Giovanni just to name a few         50.0  1981.0   \n",
       "4388              Playin' Cash, Hank, Willie, and Waylon         50.0  2011.0   \n",
       "16911                Sarah Vaughn, Johann Sebastian Bach         50.0  1981.0   \n",
       "4414                                In the diary of Jane         50.0  2006.0   \n",
       "12751                       I believe America's at stake         50.0  1972.0   \n",
       "15088                           Boston and a Kansas city         50.0  2006.0   \n",
       "16320  But they call me Bill Clinton for all the head...         50.0  2001.0   \n",
       "14763      Wearin' red, white and blue Jack and his crew         50.0  1991.0   \n",
       "15194                        Sade, I'm a smooth operator         50.0  2013.0   \n",
       "15020  But me an' ol' Bill lucked out and got ringsid...         50.0  1970.0   \n",
       "4390              Playin' Cash, Hank, Willie, and Waylon         50.0  2011.0   \n",
       "19231                                        Baby, baby.         50.0  1996.0   \n",
       "14764             King and chief probably had a big beef         50.0  1991.0   \n",
       "6245                                        Romeo, Romeo         50.0  1993.0   \n",
       "604    The children of Israel, he's gonna punish us f...         50.0  2017.0   \n",
       "6228                            Romeo comes struttin' in         50.0  1993.0   \n",
       "6237              Romeo, Romeo, I want to be your Juliet         50.0  1993.0   \n",
       "\n",
       "      nonPerson     name  gender songsubject  \n",
       "15024         0     Bill    Male           M  \n",
       "19222         0     Baby  Female        Baby  \n",
       "8559          0     Baby    Male        Baby  \n",
       "16909         0    Nikki  Female           F  \n",
       "4388          0   Waylon    Male           M  \n",
       "16911         0    Sarah  Female           F  \n",
       "4414          0     Jane    Male           F  \n",
       "12751         0  America    Male        Baby  \n",
       "15088      city   Boston    Male        Baby  \n",
       "16320         0     Bill    Male           M  \n",
       "14763         0     Jack    Male           M  \n",
       "15194         0     Sade    Male           F  \n",
       "15020         0     Bill    Male           M  \n",
       "4390          0   Waylon    Male           M  \n",
       "19231         0     Baby  Female        Baby  \n",
       "14764         0     King    Male        Baby  \n",
       "6245          0    Romeo  Female           M  \n",
       "604     country   Israel    Male         NPN  \n",
       "6228          0    Romeo  Female           M  \n",
       "6237          0    Romeo  Female           M  "
      ]
     },
     "execution_count": 19,
     "metadata": {},
     "output_type": "execute_result"
    }
   ],
   "source": [
    "# make a gender column with dummies (gender is the gender of the artist)\n",
    "gender = [\"Female\" if col in [\"Teena Marie\", \"Total\", \"Dolly Parton\"] else \"Male\" for col in sample50.artist]\n",
    "#genderdummy = [0 if col in [\"Taylor Swift\", \"Rihanna\"] else 1 for col in sample50.artist]\n",
    "\n",
    "#sample[\"genderdummy\"] = genderdummy\n",
    "sample50[\"gender\"] = gender\n",
    "\n",
    "# make a songsubject variable\n",
    "sample50[\"songsubject\"] = sample50.loc[:, \"name\"]\n",
    "\n",
    "# make a songsubject variable (topic of the main subject of a song; whether that be a person, place, frequentyly used gender neutral term like baby)\n",
    "#sample = sample.drop(\"nonPerson\", axis = 1)\n",
    "genderifiy =  [\"F\" if col in [\"Nikki\", \"Sarah\", \"Jane\", \"Sade\", \"Ronnie\", \"Amanda\"] else \"M\" if col in [\"Bill\", \"Waylon\", \"Jack\", \"Romeo\"] else \"NPN\" if col in [\"Israel\"] else \"Baby\" for col in sample50.songsubject]\n",
    "\n",
    "#elif col in [\"Malcolm\", \"Bobby\", \"Roy\"]\n",
    "\n",
    "#male = [\"M\" if col in [\"Malcolm\", \"Bobby\", \"Roy\"] for col in sample.artist]\n",
    "sample50[\"songsubject\"] = genderifiy\n",
    "sample50"
   ]
  },
  {
   "cell_type": "markdown",
   "id": "d467d41c",
   "metadata": {},
   "source": [
    "- sample100"
   ]
  },
  {
   "cell_type": "code",
   "execution_count": 21,
   "id": "d1662fe1",
   "metadata": {},
   "outputs": [
    {
     "data": {
      "text/html": [
       "<div>\n",
       "<style scoped>\n",
       "    .dataframe tbody tr th:only-of-type {\n",
       "        vertical-align: middle;\n",
       "    }\n",
       "\n",
       "    .dataframe tbody tr th {\n",
       "        vertical-align: top;\n",
       "    }\n",
       "\n",
       "    .dataframe thead th {\n",
       "        text-align: right;\n",
       "    }\n",
       "</style>\n",
       "<table border=\"1\" class=\"dataframe\">\n",
       "  <thead>\n",
       "    <tr style=\"text-align: right;\">\n",
       "      <th></th>\n",
       "      <th>artist</th>\n",
       "      <th>song</th>\n",
       "      <th>sentence</th>\n",
       "      <th>highestRank</th>\n",
       "      <th>year</th>\n",
       "      <th>nonPerson</th>\n",
       "      <th>name</th>\n",
       "      <th>gender</th>\n",
       "      <th>songsubject</th>\n",
       "    </tr>\n",
       "  </thead>\n",
       "  <tbody>\n",
       "    <tr>\n",
       "      <th>517</th>\n",
       "      <td>Mitchell Tenpenny</td>\n",
       "      <td>Drunk Me</td>\n",
       "      <td>Baby can you come over, I always find those wo...</td>\n",
       "      <td>100.0</td>\n",
       "      <td>2018.0</td>\n",
       "      <td>0</td>\n",
       "      <td>Baby</td>\n",
       "      <td>Male</td>\n",
       "      <td>Baby</td>\n",
       "    </tr>\n",
       "    <tr>\n",
       "      <th>1136</th>\n",
       "      <td>6ix9ine Featuring Nicki Minaj &amp; Kanye West</td>\n",
       "      <td>MAMA</td>\n",
       "      <td>Got him cummin', cummin', Roger, over, dispatch</td>\n",
       "      <td>100.0</td>\n",
       "      <td>2018.0</td>\n",
       "      <td>0</td>\n",
       "      <td>Roger</td>\n",
       "      <td>Male</td>\n",
       "      <td>M</td>\n",
       "    </tr>\n",
       "    <tr>\n",
       "      <th>1314</th>\n",
       "      <td>Offset &amp; Metro Boomin</td>\n",
       "      <td>Nightmare</td>\n",
       "      <td>Freddy Kruger, give 'em a nightmare</td>\n",
       "      <td>100.0</td>\n",
       "      <td>2017.0</td>\n",
       "      <td>0</td>\n",
       "      <td>Freddy</td>\n",
       "      <td>Male</td>\n",
       "      <td>M</td>\n",
       "    </tr>\n",
       "    <tr>\n",
       "      <th>8056</th>\n",
       "      <td>Game</td>\n",
       "      <td>Martians Vs Goblins</td>\n",
       "      <td>So I smacked them bitches wearing Bishop Don J...</td>\n",
       "      <td>100.0</td>\n",
       "      <td>2011.0</td>\n",
       "      <td>title</td>\n",
       "      <td>Don</td>\n",
       "      <td>Male</td>\n",
       "      <td>NPN</td>\n",
       "    </tr>\n",
       "    <tr>\n",
       "      <th>1131</th>\n",
       "      <td>6ix9ine Featuring Nicki Minaj &amp; Kanye West</td>\n",
       "      <td>MAMA</td>\n",
       "      <td>Whole squad on point, bunch of Chris Pauls</td>\n",
       "      <td>100.0</td>\n",
       "      <td>2018.0</td>\n",
       "      <td>0</td>\n",
       "      <td>Chris</td>\n",
       "      <td>Male</td>\n",
       "      <td>Baby</td>\n",
       "    </tr>\n",
       "    <tr>\n",
       "      <th>20365</th>\n",
       "      <td>Young Thug</td>\n",
       "      <td>Check</td>\n",
       "      <td>Baby baby, baby baby baby, I need racks, hey!</td>\n",
       "      <td>100.0</td>\n",
       "      <td>2015.0</td>\n",
       "      <td>0</td>\n",
       "      <td>Baby</td>\n",
       "      <td>Male</td>\n",
       "      <td>Baby</td>\n",
       "    </tr>\n",
       "    <tr>\n",
       "      <th>43</th>\n",
       "      <td>Lil Uzi Vert</td>\n",
       "      <td>444+222</td>\n",
       "      <td>Million, on me, Jay Z</td>\n",
       "      <td>100.0</td>\n",
       "      <td>2017.0</td>\n",
       "      <td>0</td>\n",
       "      <td>Jay</td>\n",
       "      <td>Male</td>\n",
       "      <td>Baby</td>\n",
       "    </tr>\n",
       "    <tr>\n",
       "      <th>16820</th>\n",
       "      <td>Taylor John Williams</td>\n",
       "      <td>Royals</td>\n",
       "      <td>But everybody's like Cristal, Maybach, diamond...</td>\n",
       "      <td>100.0</td>\n",
       "      <td>2014.0</td>\n",
       "      <td>drink</td>\n",
       "      <td>Cristal</td>\n",
       "      <td>Male</td>\n",
       "      <td>NPN</td>\n",
       "    </tr>\n",
       "    <tr>\n",
       "      <th>795</th>\n",
       "      <td>Chris Brown Featuring Future &amp; Young Thug</td>\n",
       "      <td>High End</td>\n",
       "      <td>Tony</td>\n",
       "      <td>100.0</td>\n",
       "      <td>2017.0</td>\n",
       "      <td>0</td>\n",
       "      <td>Tony</td>\n",
       "      <td>Male</td>\n",
       "      <td>Baby</td>\n",
       "    </tr>\n",
       "    <tr>\n",
       "      <th>19894</th>\n",
       "      <td>Wale Featuring Lil Wayne</td>\n",
       "      <td>Running Back</td>\n",
       "      <td>Since Jesus of Nazareth, the realest you've co...</td>\n",
       "      <td>100.0</td>\n",
       "      <td>2017.0</td>\n",
       "      <td>0</td>\n",
       "      <td>Jesus</td>\n",
       "      <td>Male</td>\n",
       "      <td>Baby</td>\n",
       "    </tr>\n",
       "    <tr>\n",
       "      <th>1317</th>\n",
       "      <td>Offset &amp; Metro Boomin</td>\n",
       "      <td>Nightmare</td>\n",
       "      <td>Freddy Kruger, give 'em a nightmare</td>\n",
       "      <td>100.0</td>\n",
       "      <td>2017.0</td>\n",
       "      <td>0</td>\n",
       "      <td>Freddy</td>\n",
       "      <td>Male</td>\n",
       "      <td>M</td>\n",
       "    </tr>\n",
       "    <tr>\n",
       "      <th>101</th>\n",
       "      <td>Halsey Featuring Big Sean &amp; Stefflon Don</td>\n",
       "      <td>Alone</td>\n",
       "      <td>Baby, as soon as you meet me</td>\n",
       "      <td>100.0</td>\n",
       "      <td>2018.0</td>\n",
       "      <td>0</td>\n",
       "      <td>Baby</td>\n",
       "      <td>Male</td>\n",
       "      <td>Baby</td>\n",
       "    </tr>\n",
       "    <tr>\n",
       "      <th>20270</th>\n",
       "      <td>Yo Gotti Featuring Jeezy &amp; YG</td>\n",
       "      <td>Act Right</td>\n",
       "      <td>Michael Jordan with the chopper man I hit you ...</td>\n",
       "      <td>100.0</td>\n",
       "      <td>2013.0</td>\n",
       "      <td>0</td>\n",
       "      <td>Michael</td>\n",
       "      <td>Male</td>\n",
       "      <td>M</td>\n",
       "    </tr>\n",
       "    <tr>\n",
       "      <th>1154</th>\n",
       "      <td>Becky G Featuring Bad Bunny</td>\n",
       "      <td>Mayores</td>\n",
       "      <td>Becky G</td>\n",
       "      <td>100.0</td>\n",
       "      <td>2017.0</td>\n",
       "      <td>0</td>\n",
       "      <td>Becky</td>\n",
       "      <td>Male</td>\n",
       "      <td>Baby</td>\n",
       "    </tr>\n",
       "    <tr>\n",
       "      <th>581</th>\n",
       "      <td>Calvin Harris Featuring Kehlani &amp; Lil Yachty</td>\n",
       "      <td>Faking It</td>\n",
       "      <td>Go Lani, go Lani</td>\n",
       "      <td>100.0</td>\n",
       "      <td>2017.0</td>\n",
       "      <td>0</td>\n",
       "      <td>Lani</td>\n",
       "      <td>Male</td>\n",
       "      <td>F</td>\n",
       "    </tr>\n",
       "    <tr>\n",
       "      <th>1135</th>\n",
       "      <td>6ix9ine Featuring Nicki Minaj &amp; Kanye West</td>\n",
       "      <td>MAMA</td>\n",
       "      <td>I just bought my bitch them Kylie Jenner lip f...</td>\n",
       "      <td>100.0</td>\n",
       "      <td>2018.0</td>\n",
       "      <td>0</td>\n",
       "      <td>Kylie</td>\n",
       "      <td>Male</td>\n",
       "      <td>F</td>\n",
       "    </tr>\n",
       "    <tr>\n",
       "      <th>19356</th>\n",
       "      <td>Trick-Trick Featuring Eminem</td>\n",
       "      <td>Welcome 2 Detroit</td>\n",
       "      <td>Marshall done called me to 54 and laced the track</td>\n",
       "      <td>100.0</td>\n",
       "      <td>2005.0</td>\n",
       "      <td>0</td>\n",
       "      <td>Marshall</td>\n",
       "      <td>Male</td>\n",
       "      <td>Baby</td>\n",
       "    </tr>\n",
       "    <tr>\n",
       "      <th>780</th>\n",
       "      <td>Derez De'Shon</td>\n",
       "      <td>Hardaway</td>\n",
       "      <td>Hardaway, hardaway, hardaway, young Penny Hard...</td>\n",
       "      <td>100.0</td>\n",
       "      <td>2018.0</td>\n",
       "      <td>0</td>\n",
       "      <td>Penny</td>\n",
       "      <td>Male</td>\n",
       "      <td>Baby</td>\n",
       "    </tr>\n",
       "    <tr>\n",
       "      <th>792</th>\n",
       "      <td>Chris Brown Featuring Future &amp; Young Thug</td>\n",
       "      <td>High End</td>\n",
       "      <td>Plain Jane watch, Richard Mille</td>\n",
       "      <td>100.0</td>\n",
       "      <td>2017.0</td>\n",
       "      <td>0</td>\n",
       "      <td>Richard</td>\n",
       "      <td>Male</td>\n",
       "      <td>M</td>\n",
       "    </tr>\n",
       "    <tr>\n",
       "      <th>1269</th>\n",
       "      <td>Migos</td>\n",
       "      <td>Narcos</td>\n",
       "      <td>Got dope like Pablo</td>\n",
       "      <td>100.0</td>\n",
       "      <td>2018.0</td>\n",
       "      <td>0</td>\n",
       "      <td>Pablo</td>\n",
       "      <td>Male</td>\n",
       "      <td>M</td>\n",
       "    </tr>\n",
       "  </tbody>\n",
       "</table>\n",
       "</div>"
      ],
      "text/plain": [
       "                                             artist                 song  \\\n",
       "517                               Mitchell Tenpenny             Drunk Me   \n",
       "1136     6ix9ine Featuring Nicki Minaj & Kanye West                 MAMA   \n",
       "1314                          Offset & Metro Boomin            Nightmare   \n",
       "8056                                           Game  Martians Vs Goblins   \n",
       "1131     6ix9ine Featuring Nicki Minaj & Kanye West                 MAMA   \n",
       "20365                                    Young Thug                Check   \n",
       "43                                     Lil Uzi Vert              444+222   \n",
       "16820                          Taylor John Williams               Royals   \n",
       "795       Chris Brown Featuring Future & Young Thug             High End   \n",
       "19894                      Wale Featuring Lil Wayne         Running Back   \n",
       "1317                          Offset & Metro Boomin            Nightmare   \n",
       "101        Halsey Featuring Big Sean & Stefflon Don                Alone   \n",
       "20270                 Yo Gotti Featuring Jeezy & YG            Act Right   \n",
       "1154                    Becky G Featuring Bad Bunny              Mayores   \n",
       "581    Calvin Harris Featuring Kehlani & Lil Yachty            Faking It   \n",
       "1135     6ix9ine Featuring Nicki Minaj & Kanye West                 MAMA   \n",
       "19356                  Trick-Trick Featuring Eminem    Welcome 2 Detroit   \n",
       "780                                   Derez De'Shon             Hardaway   \n",
       "792       Chris Brown Featuring Future & Young Thug             High End   \n",
       "1269                                          Migos               Narcos   \n",
       "\n",
       "                                                sentence  highestRank    year  \\\n",
       "517    Baby can you come over, I always find those wo...        100.0  2018.0   \n",
       "1136     Got him cummin', cummin', Roger, over, dispatch        100.0  2018.0   \n",
       "1314                 Freddy Kruger, give 'em a nightmare        100.0  2017.0   \n",
       "8056   So I smacked them bitches wearing Bishop Don J...        100.0  2011.0   \n",
       "1131          Whole squad on point, bunch of Chris Pauls        100.0  2018.0   \n",
       "20365      Baby baby, baby baby baby, I need racks, hey!        100.0  2015.0   \n",
       "43                                 Million, on me, Jay Z        100.0  2017.0   \n",
       "16820  But everybody's like Cristal, Maybach, diamond...        100.0  2014.0   \n",
       "795                                                 Tony        100.0  2017.0   \n",
       "19894  Since Jesus of Nazareth, the realest you've co...        100.0  2017.0   \n",
       "1317                 Freddy Kruger, give 'em a nightmare        100.0  2017.0   \n",
       "101                         Baby, as soon as you meet me        100.0  2018.0   \n",
       "20270  Michael Jordan with the chopper man I hit you ...        100.0  2013.0   \n",
       "1154                                             Becky G        100.0  2017.0   \n",
       "581                                     Go Lani, go Lani        100.0  2017.0   \n",
       "1135   I just bought my bitch them Kylie Jenner lip f...        100.0  2018.0   \n",
       "19356  Marshall done called me to 54 and laced the track        100.0  2005.0   \n",
       "780    Hardaway, hardaway, hardaway, young Penny Hard...        100.0  2018.0   \n",
       "792                      Plain Jane watch, Richard Mille        100.0  2017.0   \n",
       "1269                                 Got dope like Pablo        100.0  2018.0   \n",
       "\n",
       "      nonPerson      name gender songsubject  \n",
       "517           0      Baby   Male        Baby  \n",
       "1136          0     Roger   Male           M  \n",
       "1314          0    Freddy   Male           M  \n",
       "8056      title       Don   Male         NPN  \n",
       "1131          0     Chris   Male        Baby  \n",
       "20365         0      Baby   Male        Baby  \n",
       "43            0       Jay   Male        Baby  \n",
       "16820     drink   Cristal   Male         NPN  \n",
       "795           0      Tony   Male        Baby  \n",
       "19894         0     Jesus   Male        Baby  \n",
       "1317          0    Freddy   Male           M  \n",
       "101           0      Baby   Male        Baby  \n",
       "20270         0   Michael   Male           M  \n",
       "1154          0     Becky   Male        Baby  \n",
       "581           0      Lani   Male           F  \n",
       "1135          0     Kylie   Male           F  \n",
       "19356         0  Marshall   Male        Baby  \n",
       "780           0     Penny   Male        Baby  \n",
       "792           0   Richard   Male           M  \n",
       "1269          0     Pablo   Male           M  "
      ]
     },
     "execution_count": 21,
     "metadata": {},
     "output_type": "execute_result"
    }
   ],
   "source": [
    "# make a gender column with dummies (gender is the gender of the artist)\n",
    "gender = [\"Female\" if col in [\"Teena Marie\", \"Total\", \"Dolly Parton\"] else \"Male\" for col in sample100.artist]\n",
    "#genderdummy = [0 if col in [\"Taylor Swift\", \"Rihanna\"] else 1 for col in sample50.artist]\n",
    "\n",
    "#sample[\"genderdummy\"] = genderdummy\n",
    "sample100[\"gender\"] = gender\n",
    "\n",
    "# make a songsubject variable\n",
    "sample100[\"songsubject\"] = sample100.loc[:, \"name\"]\n",
    "\n",
    "# make a songsubject variable (topic of the main subject of a song; whether that be a person, place, frequentyly used gender neutral term like baby)\n",
    "#sample = sample.drop(\"nonPerson\", axis = 1)\n",
    "genderifiy =  [\"F\" if col in [\"Kylie\", \"Lani\"] else \"M\" if col in [\"Roger\", \"Freddy\", \"Michael\", \"Marshal\", \"Richard\", \"Pablo\"] else \"NPN\" if col in [\"Cristal\", \"Don\"] else \"Baby\" for col in sample100.songsubject]\n",
    "\n",
    "#elif col in [\"Malcolm\", \"Bobby\", \"Roy\"]\n",
    "\n",
    "#male = [\"M\" if col in [\"Malcolm\", \"Bobby\", \"Roy\"] for col in sample.artist]\n",
    "sample100[\"songsubject\"] = genderifiy\n",
    "sample100"
   ]
  },
  {
   "cell_type": "code",
   "execution_count": null,
   "id": "788dd7e9",
   "metadata": {},
   "outputs": [],
   "source": []
  }
 ],
 "metadata": {
  "kernelspec": {
   "display_name": "gemcordelli",
   "language": "python",
   "name": "python3"
  },
  "language_info": {
   "codemirror_mode": {
    "name": "ipython",
    "version": 3
   },
   "file_extension": ".py",
   "mimetype": "text/x-python",
   "name": "python",
   "nbconvert_exporter": "python",
   "pygments_lexer": "ipython3",
   "version": "3.12.4"
  }
 },
 "nbformat": 4,
 "nbformat_minor": 5
}
