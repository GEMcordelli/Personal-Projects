{
 "cells": [
  {
   "cell_type": "code",
   "execution_count": 93,
   "id": "a0a48c4c-3f6f-4878-af99-fc93f7dd3994",
   "metadata": {},
   "outputs": [
    {
     "name": "stderr",
     "output_type": "stream",
     "text": [
      "[nltk_data] Downloading package punkt to\n",
      "[nltk_data]     C:\\Users\\grozz\\AppData\\Roaming\\nltk_data...\n",
      "[nltk_data]   Package punkt is already up-to-date!\n"
     ]
    },
    {
     "data": {
      "text/plain": [
       "Counter({\"Like I'm the only one who knows your heart\": 5,\n",
       "         \"Want you to make me feel like I'm the only girl in the world\": 4,\n",
       "         \"Like I'm the only one that you'll ever love\": 4,\n",
       "         'Only girl in the world': 4,\n",
       "         \"'Cause I'm the only one who understands\": 3,\n",
       "         \"Like I'm the only one that's in command\": 2,\n",
       "         'Only one': 2,\n",
       "         'Take me for a ride, ride': 2,\n",
       "         'Oh, baby, take me high, high': 2,\n",
       "         'Let me make you rise, rise': 2,\n",
       "         'Girl in the world': 2,\n",
       "         'La-la-la-la La-la-la-la La-la-la-la (uh, yeah)': 1,\n",
       "         'La-la-la-la': 1,\n",
       "         'I want you to love me': 1,\n",
       "         \"Like I'm a hot ride (uh, yeah)\": 1,\n",
       "         'Be thinking of me (uh)': 1,\n",
       "         'Doing what you like': 1,\n",
       "         'So, boy, forget about the world': 1,\n",
       "         \"'Cause it's gon' be me and you tonight (yeah)\": 1,\n",
       "         'I wanna make you beg for it': 1,\n",
       "         \"Then I'ma make you swallow your pride, oh (uh, uh)\": 1,\n",
       "         'How to make you feel like a man, yeah': 1,\n",
       "         'Want you to take it (uh)': 1,\n",
       "         'Like a thief in the night (uh)': 1,\n",
       "         'Hold me like a pillow Make me feel right (uh)': 1,\n",
       "         \"Baby, I'll tell you all my secrets that I'm keeping\": 1,\n",
       "         'You can come inside (yeah)': 1,\n",
       "         \"And when you enter, you ain't leaving\": 1,\n",
       "         'Be my prisoner for the night, oh': 1,\n",
       "         \"Only girl in the world Like I'm the only one that's in command\": 1,\n",
       "         'Oh, make it last all night, night': 1,\n",
       "         ' Make it last all night': 1,\n",
       "         'How to make you feel like a man': 1})"
      ]
     },
     "execution_count": 93,
     "metadata": {},
     "output_type": "execute_result"
    }
   ],
   "source": [
    "import nltk\n",
    "from nltk.tokenize import sent_tokenize\n",
    "from collections import Counter\n",
    "nltk.download('punkt')\n",
    "\n",
    "\n",
    "# Load in Song Sample from Our EDA\n",
    "samplelyrics = open(\"OnlyGirlInTheWorld.txt\", \"r\")\n",
    "\n",
    "\n",
    "# Read Lines\n",
    "sample = samplelyrics.read()\n",
    "lines = sample.splitlines()\n",
    "\n",
    "\n",
    "# Split into Line by Line Sentences\n",
    "sentences = []\n",
    "\n",
    "for line in lines:\n",
    "    line_sentence = sent_tokenize(line)\n",
    "    sentences.extend(line_sentence)\n",
    "\n",
    "count_lines = Counter(sentences)\n",
    "\n",
    "count_lines"
   ]
  },
  {
   "cell_type": "code",
   "execution_count": 71,
   "id": "bf5ac65a-971a-436d-84b5-82fe372d6978",
   "metadata": {},
   "outputs": [
    {
     "ename": "IndentationError",
     "evalue": "unexpected indent (3768824003.py, line 52)",
     "output_type": "error",
     "traceback": [
      "\u001b[1;36m  Cell \u001b[1;32mIn[71], line 52\u001b[1;36m\u001b[0m\n\u001b[1;33m    print(\"Results have been saved to Lyrics_Analysis.xlsx\")\u001b[0m\n\u001b[1;37m    ^\u001b[0m\n\u001b[1;31mIndentationError\u001b[0m\u001b[1;31m:\u001b[0m unexpected indent\n"
     ]
    }
   ],
   "source": [
    "import nltk\n",
    "from nltk.tokenize import sent_tokenize\n",
    "from collections import Counter\n",
    "\n",
    "# Sample lyrics text\n",
    "lyrics = \"\"\"Your lyrics go here...\n",
    "They are written in a long block, line by line,\n",
    "So we tokenize and chunk it out in the code below.\"\"\"\n",
    "\n",
    "\n",
    "samplelyrics = open(\"OnlyGirlInTheWorld.txt\", \"r\")\n",
    "\n",
    "# Tokenize into sentences (or lines if separated by newlines)\n",
    "sentences = sent_tokenize(lyrics)\n",
    "\n",
    "# Count each line's occurrence to detect repeated lines\n",
    "line_counts = Counter(sentences)\n",
    "chorus_candidates = [line for line, count in line_counts.items() if count > 1]\n",
    "\n",
    "# Identify indices of repeated lines (potential choruses)\n",
    "chorus_indices = [i for i, line in enumerate(sentences) if line in chorus_candidates]\n",
    "\n",
    "# Separate verses and choruses\n",
    "verses = []\n",
    "choruses = []\n",
    "start = 0\n",
    "\n",
    "for idx in chorus_indices:\n",
    "    # Add verse before each chorus\n",
    "    verses.append(sentences[start:idx])\n",
    "    # Add chorus\n",
    "    choruses.append(sentences[idx])\n",
    "    start = idx + 1\n",
    "\n",
    "# Add the last verse if there's text remaining after the last chorus\n",
    "if start < len(sentences):\n",
    "    verses.append(sentences[start:])\n",
    "\n",
    "# Display separated verses and choruses\n",
    "for i, verse in enumerate(verses):\n",
    "    print(f\"Verse {i+1}: {' '.join(verse)}\\n\")\n",
    "\n",
    "for i, chorus in enumerate(choruses):\n",
    "    print(f\"Chorus {i+1}: {chorus}\\n\")\n",
    "\n",
    "# Prepare data for Excel data# = { 'Section': [f\"Verse {i+1}\" for i in range(len(verses))] + [f\"Chorus {i+1}\" for i in range(len(choruses))], 'Content': verses + choruses } \n",
    "\n",
    " # Create DataFrame and save to Excel \n",
    "df = pd.DataFrame(data) \n",
    "df.to_excel(\"Lyrics_Analysis.xlsx\", index=False) \n",
    "\n",
    " print(\"Results have been saved to Lyrics_Analysis.xlsx\")\n",
    "\n",
    "#I would have it print out an excel file so you can see how the columns are informed#\n"
   ]
  },
  {
   "cell_type": "code",
   "execution_count": null,
   "id": "f01af448-6069-48c9-ac4f-65c08583e318",
   "metadata": {},
   "outputs": [],
   "source": []
  }
 ],
 "metadata": {
  "kernelspec": {
   "display_name": "Python 3 (ipykernel)",
   "language": "python",
   "name": "python3"
  },
  "language_info": {
   "codemirror_mode": {
    "name": "ipython",
    "version": 3
   },
   "file_extension": ".py",
   "mimetype": "text/x-python",
   "name": "python",
   "nbconvert_exporter": "python",
   "pygments_lexer": "ipython3",
   "version": "3.12.4"
  }
 },
 "nbformat": 4,
 "nbformat_minor": 5
}
