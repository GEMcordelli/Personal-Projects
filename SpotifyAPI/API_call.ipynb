{
 "cells": [
  {
   "cell_type": "markdown",
   "id": "8888397f",
   "metadata": {},
   "source": [
    "Spotify API Callback/Retrieval"
   ]
  },
  {
   "cell_type": "code",
   "execution_count": 1,
   "id": "7ff7107f",
   "metadata": {},
   "outputs": [
    {
     "name": "stdout",
     "output_type": "stream",
     "text": [
      "1. Amyl and The Sniffers – Me and The Girls\n",
      "2. Nxdia – Boy Clothes\n",
      "3. Penelope Scott – Feel Better\n",
      "4. Fiona Apple – I Want You To Love Me\n",
      "5. Lizzy McAlpine – ceilings\n",
      "6. Big Thief – Not\n",
      "7. She Wants Revenge – Tear You Apart\n",
      "8. Magdalena Bay – Death & Romance\n",
      "9. Da Fokin – Jelly Fish Jam - Techno Mix\n",
      "10. Iniko – Jericho\n",
      "11. Imogen Heap – Headlock\n",
      "12. The Last Dinner Party – Nothing Matters\n",
      "13. Debbii Dawson – Happy World\n",
      "14. Magdalena Bay – Image\n",
      "15. Tyler, The Creator – Balloon (feat. Doechii)\n",
      "16. Joey Valence & Brae – PUNK TACTICS\n",
      "17. Lil Peep – Falling Down - Bonus Track\n",
      "18. Lola Young – Conceited\n",
      "19. Nxdia – Feel Anything\n",
      "20. Lola Young – Messy\n"
     ]
    }
   ],
   "source": [
    "import spotipy\n",
    "from spotipy.oauth2 import SpotifyOAuth\n",
    "\n",
    "sp = spotipy.Spotify(auth_manager=SpotifyOAuth(\n",
    "    client_id=\"b0472f45c6ba452d979ce19a7ee05fab\",\n",
    "    client_secret=\"990a6e8f51274c7ebe4c0632e8dbd970\",\n",
    "    redirect_uri=\"http://127.0.0.1:8888/callback\",\n",
    "    scope=\"user-library-read\"  # or whatever scopes you need\n",
    "))\n",
    "\n",
    "results = sp.current_user_saved_tracks()\n",
    "for idx, item in enumerate(results['items']):\n",
    "    track = item['track']\n",
    "    print(f\"{idx + 1}. {track['artists'][0]['name']} – {track['name']}\")"
   ]
  },
  {
   "cell_type": "code",
   "execution_count": null,
   "id": "8e457d5d",
   "metadata": {},
   "outputs": [],
   "source": []
  }
 ],
 "metadata": {
  "kernelspec": {
   "display_name": "gemcordelli",
   "language": "python",
   "name": "python3"
  },
  "language_info": {
   "codemirror_mode": {
    "name": "ipython",
    "version": 3
   },
   "file_extension": ".py",
   "mimetype": "text/x-python",
   "name": "python",
   "nbconvert_exporter": "python",
   "pygments_lexer": "ipython3",
   "version": "3.12.4"
  }
 },
 "nbformat": 4,
 "nbformat_minor": 5
}
